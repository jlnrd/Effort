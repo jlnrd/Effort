{
 "cells": [
  {
   "cell_type": "code",
   "execution_count": 1,
   "metadata": {
    "collapsed": false
   },
   "outputs": [],
   "source": [
    "%matplotlib inline\n",
    "\n",
    "from __future__ import division, print_function\n",
    "\n",
    "import glob as glob\n",
    "\n",
    "import pandas as pd\n",
    "import matplotlib.pyplot as plt\n",
    "import numpy as np\n",
    "import seaborn as sns\n",
    "from scipy import optimize\n",
    "\n",
    "sns.set_style('white')"
   ]
  },
  {
   "cell_type": "markdown",
   "metadata": {},
   "source": [
    "### Set parameters"
   ]
  },
  {
   "cell_type": "code",
   "execution_count": 2,
   "metadata": {
    "collapsed": true
   },
   "outputs": [],
   "source": [
    "N_samples = 10000\n",
    "threshold = .5 \n",
    "REWARD = 1\n",
    "\n",
    "_results_index = [\n",
    "    'High Effort Success', 'Low Effort Success', 'High Effort Failure', \n",
    "    'Low Effort Failure', 'Baseline'\n",
    "]\n",
    "\n",
    "human_means = pd.Series([107, 57, 30, 35,85], index=_results_index)"
   ]
  },
  {
   "cell_type": "markdown",
   "metadata": {},
   "source": [
    "### Free parameters to fit"
   ]
  },
  {
   "cell_type": "code",
   "execution_count": 3,
   "metadata": {
    "collapsed": true
   },
   "outputs": [],
   "source": [
    "#COST = 0.5\n",
    "#B=6\n",
    "#A=60 \n",
    "#u_skill = .625 #mean of beta\n",
    "#tao_skill = 20 #variance of beta\n",
    "#skill=.4\n",
    "#scale = 200"
   ]
  },
  {
   "cell_type": "markdown",
   "metadata": {},
   "source": [
    "### Functions"
   ]
  },
  {
   "cell_type": "code",
   "execution_count": 4,
   "metadata": {
    "collapsed": false
   },
   "outputs": [],
   "source": [
    "def prob_reward(e,diff,skill, A, B):\n",
    "    \"\"\"Return the probability of getting the reward\n",
    "    \n",
    "    Parameters\n",
    "    ----------\n",
    "    e : numeric or array-like\n",
    "        Description of this parameter.\n",
    "    # TODO: list other parameters\n",
    "    \n",
    "    Returns\n",
    "    -------\n",
    "    ...\n",
    "    \"\"\"\n",
    "    return 1/(1 + A * np.exp(-(e * skill / diff) * B)) \n",
    "\n",
    "\n",
    "def get_effort(cost, diff, skill, A, B,reward=1):\n",
    "    \"\"\"Documentation.\"\"\"\n",
    "    es = np.linspace(0, 1, 100) \n",
    "    utilities = (\n",
    "        reward * prob_reward(e=es, diff=diff, skill=skill, A=A, B=B)\n",
    "        - cost * es\n",
    "    )\n",
    "    return es[np.argmax(utilities)]  #return argmax of utility\n",
    "\n",
    "\n",
    "def get_effort_multidim(cost, diff, skill, A, B, reward=1):\n",
    "    \"\"\"Similar to `get_effort` but accepts arrays or single values of `diff` \n",
    "    and `skill`.\n",
    "\n",
    "    Parameters\n",
    "    ----------\n",
    "    ...\n",
    "\n",
    "    Returns\n",
    "    -------\n",
    "    Ndarray with same shape as `diff` and `skill`.\n",
    "    \"\"\"\n",
    "    es = np.linspace(0, 1, 100)\n",
    "    es_rank2 = es[np.newaxis, ...]\n",
    "    \n",
    "    try:\n",
    "        diff = diff[..., np.newaxis]\n",
    "    except TypeError:\n",
    "        pass\n",
    "    try:\n",
    "        skill = skill[..., np.newaxis]\n",
    "    except TypeError:\n",
    "        pass\n",
    "    \n",
    "    prob = prob_reward(e=es_rank2, diff=diff, skill=skill, A=A, B=B)\n",
    "    utilities = reward * prob - cost * es_rank2\n",
    "    return es[utilities.argmax(-1)]\n",
    "\n",
    "\n",
    "def your_eff_know_skill(n_samples, cost, diff, skill, A, B,reward=1):  #model for planning. Takes in diff, skill, and cost -returns effort\n",
    "    \"\"\"Documentation.\"\"\"\n",
    "    sampled_effort = np.empty(n_samples)\n",
    "    for i in range(n_samples):\n",
    "        d = np.random.choice(diff)\n",
    "        effort=get_effort(cost=cost, diff=d, skill=skill, A=A, B=B, reward=reward)\n",
    "        sampled_effort[i] = effort\n",
    "    \n",
    "    return sampled_effort\n",
    "\n",
    "\n",
    "def your_eff_know_skill_opt(n_samples, cost, diff, skill, A, B,reward=1):\n",
    "    \"\"\"Model for planning.\n",
    "\n",
    "    Parameters\n",
    "    ----------\n",
    "    n_samples : int\n",
    "    cost : numeric\n",
    "    diff : array-like\n",
    "    skill : numeric\n",
    "    A : numeric\n",
    "    B : numeric\n",
    "    reward : numeric\n",
    "    \n",
    "    Returns\n",
    "    -------\n",
    "    Ndarray of effort.\n",
    "    \"\"\"\n",
    "    rand_diffs = np.random.choice(diff, size=n_samples)\n",
    "    return get_effort_multidim(\n",
    "        cost=cost, diff=rand_diffs, skill=skill, A=A, B=B, reward=reward\n",
    "    )\n",
    "\n",
    "\n",
    "def create_priors(n_samples, tao_skill, u_skill, cost, A, B, reward=1,threshold=0.5):\n",
    "    \"\"\"Documentation.\"\"\"\n",
    "    # Skill and diff are beta distributions.\n",
    "    skills = np.random.beta(\n",
    "        tao_skill * u_skill, (1 - u_skill) * tao_skill, size=n_samples,\n",
    "    )\n",
    "    diffs = np.random.beta(.5,.5, size=n_samples)\n",
    "\n",
    "    # Create array of effort values, for each value of skill and diff.\n",
    "    # This initializes an empty array and fills in a value with each \n",
    "    # iteration.\n",
    "    # Please see `create_priors_opt` for a vectorized approach (faster).\n",
    "    efforts = np.empty_like(skills)\n",
    "    for ii, (this_skill, this_diff) in enumerate(zip(skills, diffs)):\n",
    "        efforts[ii] = get_effort(\n",
    "            cost=cost, skill=this_skill, diff=this_diff, A=A, B=B\n",
    "        )\n",
    "\n",
    "    high_effort = efforts > threshold\n",
    "    success = prob_reward(efforts, diffs, skills, A, B) > np.random.random(n_samples)\n",
    "\n",
    "    return skills, diffs, success, high_effort\n",
    "\n",
    "\n",
    "def create_priors_opt(n_samples, tao_skill, u_skill, cost, A, B, reward=1,threshold=0.5):\n",
    "    \"\"\"Documentation.\"\"\"\n",
    "    # Skill and diff are beta distributions.\n",
    "    skills = np.random.beta(\n",
    "        tao_skill * u_skill, (1 - u_skill) * tao_skill, size=n_samples,\n",
    "    )\n",
    "    diffs = np.random.beta(.5,.5, size=n_samples)\n",
    "\n",
    "    efforts = get_effort_multidim(\n",
    "        cost=cost, skill=skills, diff=diffs, A=A, B=B,\n",
    "    )\n",
    "\n",
    "    high_effort = efforts > threshold\n",
    "    success = prob_reward(efforts, diffs, skills, A, B) > np.random.random(n_samples)\n",
    "\n",
    "    return skills, diffs, success, high_effort\n",
    "\n",
    "\n",
    "def rmse(predictions, targets):\n",
    "    return np.sqrt(((predictions - targets) ** 2).mean())"
   ]
  },
  {
   "cell_type": "markdown",
   "metadata": {},
   "source": [
    "### Function that takes in free parameters and spits out model predictions"
   ]
  },
  {
   "cell_type": "code",
   "execution_count": 5,
   "metadata": {
    "collapsed": true
   },
   "outputs": [],
   "source": [
    "def run_model(cost, A, B, u_skill,tao_skill, skill, scale,n_samples=1000):\n",
    "    REWARD=1\n",
    "    skills, diffs, success, high_effort= create_priors(\n",
    "        n_samples =n_samples, tao_skill=tao_skill, u_skill=u_skill, cost=cost, A=A, B=B\n",
    "    )\n",
    "\n",
    "    effort_high_success = your_eff_know_skill(n_samples, cost, diffs[success & high_effort],skill, A,B) \n",
    "    effort_low_success = your_eff_know_skill(n_samples,  cost, diffs[success & (~high_effort)],skill,A,B) \n",
    "    effort_high_fail = your_eff_know_skill(n_samples,  cost, diffs[(~success) & high_effort],skill,A,B) \n",
    "    effort_low_fail = your_eff_know_skill(n_samples,  cost, diffs[(~success) & (~high_effort)],skill,A,B) \n",
    "    effort_baseline = your_eff_know_skill(n_samples,  cost, np.random.beta(.5, .5, size=n_samples),skill,A,B)\n",
    "\n",
    "    index=['High Effort Success', 'Low Effort Success', 'High Effort Failure', 'Low Effort Failure',\"Baseline\"]\n",
    "    d = {\n",
    "        'Model' : pd.Series(\n",
    "            [ \n",
    "                np.mean(effort_high_success) * scale, \n",
    "                np.mean(effort_low_success) * scale, \n",
    "                np.mean(effort_high_fail) * scale, \n",
    "                np.mean(effort_low_fail) * scale, \n",
    "                np.mean(effort_baseline)*scale\n",
    "            ], index=index),\n",
    "         'Human' : pd.Series(\n",
    "            [107, 57, 30, 35,86], \n",
    "            index=index)}\n",
    "    \n",
    "    df = pd.DataFrame(d)\n",
    "    rmse_val = rmse( df['Model'],df['Human'])\n",
    "    return rmse_val"
   ]
  },
  {
   "cell_type": "code",
   "execution_count": 6,
   "metadata": {
    "collapsed": false
   },
   "outputs": [],
   "source": [
    "def run_model_opt(cost, A, B, u_skill,tao_skill, skill, scale,n_samples=1000):\n",
    "    REWARD=1\n",
    "\n",
    "    skills, diffs, success, high_effort= create_priors_opt(\n",
    "        n_samples =n_samples, tao_skill=tao_skill, u_skill=u_skill, cost=cost, A=A, B=B\n",
    "    )\n",
    "\n",
    "    effort_high_success = your_eff_know_skill_opt(n_samples, cost, diffs[success & high_effort],skill, A,B) \n",
    "    effort_low_success = your_eff_know_skill_opt(n_samples,  cost, diffs[success & (~high_effort)],skill,A,B) \n",
    "    effort_high_fail = your_eff_know_skill_opt(n_samples,  cost, diffs[(~success) & high_effort],skill,A,B) \n",
    "    effort_low_fail = your_eff_know_skill_opt(n_samples,  cost, diffs[(~success) & (~high_effort)],skill,A,B) \n",
    "    effort_baseline = your_eff_know_skill_opt(n_samples,  cost, np.random.beta(.5, .5, size=n_samples),skill,A,B)\n",
    "\n",
    "    model_means = np.stack(\n",
    "        (effort_high_success, effort_low_success, effort_high_fail, \n",
    "         effort_low_fail, effort_baseline),\n",
    "    ).mean(-1)\n",
    "    model_means *= scale\n",
    "    \n",
    "    rmse_val = rmse(model_means, human_means)\n",
    "    return rmse_val"
   ]
  },
  {
   "cell_type": "code",
   "execution_count": 7,
   "metadata": {
    "collapsed": true
   },
   "outputs": [],
   "source": [
    "def wrapped_run_model(x):\n",
    "    return run_model(*x)\n",
    "\n",
    "\n",
    "def wrapped_run_model_opt(x):\n",
    "    return run_model_opt(*x)\n",
    "\n",
    "\n",
    "inputs = np.array([0.5, 60, 6, .625, 20, .4, 200])"
   ]
  },
  {
   "cell_type": "code",
   "execution_count": 8,
   "metadata": {
    "collapsed": false
   },
   "outputs": [
    {
     "name": "stdout",
     "output_type": "stream",
     "text": [
      "239 ms ± 4.93 ms per loop (mean ± std. dev. of 7 runs, 1 loop each)\n"
     ]
    }
   ],
   "source": [
    "%timeit wrapped_run_model(inputs)"
   ]
  },
  {
   "cell_type": "code",
   "execution_count": 9,
   "metadata": {
    "collapsed": false
   },
   "outputs": [
    {
     "name": "stdout",
     "output_type": "stream",
     "text": [
      "9.31 ms ± 214 µs per loop (mean ± std. dev. of 7 runs, 100 loops each)\n"
     ]
    }
   ],
   "source": [
    "%timeit wrapped_run_model_opt(inputs)"
   ]
  },
  {
   "cell_type": "markdown",
   "metadata": {},
   "source": [
    "### Optminize function"
   ]
  },
  {
   "cell_type": "code",
   "execution_count": 10,
   "metadata": {
    "collapsed": true
   },
   "outputs": [],
   "source": [
    "key_words=dict(cost = 0.5,B=6,A=60 ,u_skill = .625 ,tao_skill = 20, skill=.4, scale =200)\n",
    "rmse_val= run_model_opt(**key_words)"
   ]
  },
  {
   "cell_type": "code",
   "execution_count": 11,
   "metadata": {
    "collapsed": false
   },
   "outputs": [
    {
     "name": "stdout",
     "output_type": "stream",
     "text": [
      "Warning: Maximum number of iterations has been exceeded.\n"
     ]
    }
   ],
   "source": [
    "inputs = np.array([0.5, 60, 6, .625, 20, .4, 200])\n",
    "minimum = optimize.fmin(wrapped_run_model_opt, inputs, maxiter=1000)"
   ]
  },
  {
   "cell_type": "code",
   "execution_count": 12,
   "metadata": {
    "collapsed": false
   },
   "outputs": [
    {
     "data": {
      "text/plain": [
       "array([   0.50191267,   60.18720961,    6.19788864,    0.6098889 ,\n",
       "         20.19751562,    0.40355583,  201.59253897])"
      ]
     },
     "execution_count": 12,
     "metadata": {},
     "output_type": "execute_result"
    }
   ],
   "source": [
    "minimum"
   ]
  },
  {
   "cell_type": "markdown",
   "metadata": {},
   "source": [
    "### Testing"
   ]
  },
  {
   "cell_type": "code",
   "execution_count": 13,
   "metadata": {
    "collapsed": false
   },
   "outputs": [],
   "source": [
    "cost = 0.5\n",
    "B=6\n",
    "A=60 \n",
    "u_skill = .625 #mean of beta\n",
    "tao_skill = 20 #variance of beta\n",
    "skill=.4\n",
    "scale = 200\n",
    "threshold = .5\n",
    "skills, diffs, success, high_effort=create_priors(1000, tao_skill, u_skill, cost, A, B)"
   ]
  },
  {
   "cell_type": "code",
   "execution_count": 14,
   "metadata": {
    "collapsed": false
   },
   "outputs": [],
   "source": [
    "efforthigh_success = your_eff_know_skill(1000,cost, diffs[success & high_effort],skill, A,B) \n",
    "effortlow_success = your_eff_know_skill(1000,cost, diffs[success & (~high_effort)],skill,A,B) \n",
    "efforthigh_fail = your_eff_know_skill(1000,cost, diffs[(~success) & high_effort],skill,A,B) \n",
    "effortlow_fail = your_eff_know_skill(1000,cost, diffs[(~success) & (~high_effort)],skill,A,B) \n",
    "effortbaseline = your_eff_know_skill(1000,cost, np.random.beta(.5, .5, size=100),skill,A,B)"
   ]
  },
  {
   "cell_type": "code",
   "execution_count": 15,
   "metadata": {
    "collapsed": false
   },
   "outputs": [
    {
     "data": {
      "text/html": [
       "<div>\n",
       "<style scoped>\n",
       "    .dataframe tbody tr th:only-of-type {\n",
       "        vertical-align: middle;\n",
       "    }\n",
       "\n",
       "    .dataframe tbody tr th {\n",
       "        vertical-align: top;\n",
       "    }\n",
       "\n",
       "    .dataframe thead th {\n",
       "        text-align: right;\n",
       "    }\n",
       "</style>\n",
       "<table border=\"1\" class=\"dataframe\">\n",
       "  <thead>\n",
       "    <tr style=\"text-align: right;\">\n",
       "      <th></th>\n",
       "      <th>Human</th>\n",
       "      <th>Model</th>\n",
       "    </tr>\n",
       "  </thead>\n",
       "  <tbody>\n",
       "    <tr>\n",
       "      <th>High Effort Success</th>\n",
       "      <td>107</td>\n",
       "      <td>92.715152</td>\n",
       "    </tr>\n",
       "    <tr>\n",
       "      <th>Low Effort Success</th>\n",
       "      <td>57</td>\n",
       "      <td>52.620202</td>\n",
       "    </tr>\n",
       "    <tr>\n",
       "      <th>High Effort Failure</th>\n",
       "      <td>30</td>\n",
       "      <td>21.703030</td>\n",
       "    </tr>\n",
       "    <tr>\n",
       "      <th>Low Effort Failure</th>\n",
       "      <td>35</td>\n",
       "      <td>6.086869</td>\n",
       "    </tr>\n",
       "    <tr>\n",
       "      <th>Baseline</th>\n",
       "      <td>85</td>\n",
       "      <td>59.486869</td>\n",
       "    </tr>\n",
       "  </tbody>\n",
       "</table>\n",
       "</div>"
      ],
      "text/plain": [
       "                     Human      Model\n",
       "High Effort Success    107  92.715152\n",
       "Low Effort Success      57  52.620202\n",
       "High Effort Failure     30  21.703030\n",
       "Low Effort Failure      35   6.086869\n",
       "Baseline                85  59.486869"
      ]
     },
     "execution_count": 15,
     "metadata": {},
     "output_type": "execute_result"
    }
   ],
   "source": [
    "scale = 200\n",
    "d = {'Model' : pd.Series([np.mean(efforthigh_success)*scale, np.mean(effortlow_success)*scale, np.mean(efforthigh_fail)*scale, np.mean(effortlow_fail)*scale, np.mean(effortbaseline)*scale], index=['High Effort Success', 'Low Effort Success', 'High Effort Failure', 'Low Effort Failure',\"Baseline\"]),\n",
    "     'Human' : pd.Series([107, 57, 30, 35,85], index=['High Effort Success', 'Low Effort Success', 'High Effort Failure', 'Low Effort Failure',\"Baseline\"])}\n",
    "\n",
    "df = pd.DataFrame(d)\n",
    "df"
   ]
  },
  {
   "cell_type": "markdown",
   "metadata": {},
   "source": [
    "### Testing optimized version"
   ]
  },
  {
   "cell_type": "code",
   "execution_count": 16,
   "metadata": {
    "collapsed": false
   },
   "outputs": [
    {
     "data": {
      "text/html": [
       "<div>\n",
       "<style scoped>\n",
       "    .dataframe tbody tr th:only-of-type {\n",
       "        vertical-align: middle;\n",
       "    }\n",
       "\n",
       "    .dataframe tbody tr th {\n",
       "        vertical-align: top;\n",
       "    }\n",
       "\n",
       "    .dataframe thead th {\n",
       "        text-align: right;\n",
       "    }\n",
       "</style>\n",
       "<table border=\"1\" class=\"dataframe\">\n",
       "  <thead>\n",
       "    <tr style=\"text-align: right;\">\n",
       "      <th></th>\n",
       "      <th>Human</th>\n",
       "      <th>Model</th>\n",
       "    </tr>\n",
       "  </thead>\n",
       "  <tbody>\n",
       "    <tr>\n",
       "      <th>High Effort Success</th>\n",
       "      <td>107</td>\n",
       "      <td>88.636364</td>\n",
       "    </tr>\n",
       "    <tr>\n",
       "      <th>Low Effort Success</th>\n",
       "      <td>57</td>\n",
       "      <td>53.577778</td>\n",
       "    </tr>\n",
       "    <tr>\n",
       "      <th>High Effort Failure</th>\n",
       "      <td>30</td>\n",
       "      <td>38.175758</td>\n",
       "    </tr>\n",
       "    <tr>\n",
       "      <th>Low Effort Failure</th>\n",
       "      <td>35</td>\n",
       "      <td>0.565657</td>\n",
       "    </tr>\n",
       "    <tr>\n",
       "      <th>Baseline</th>\n",
       "      <td>85</td>\n",
       "      <td>50.280808</td>\n",
       "    </tr>\n",
       "  </tbody>\n",
       "</table>\n",
       "</div>"
      ],
      "text/plain": [
       "                     Human      Model\n",
       "High Effort Success    107  88.636364\n",
       "Low Effort Success      57  53.577778\n",
       "High Effort Failure     30  38.175758\n",
       "Low Effort Failure      35   0.565657\n",
       "Baseline                85  50.280808"
      ]
     },
     "execution_count": 16,
     "metadata": {},
     "output_type": "execute_result"
    }
   ],
   "source": [
    "skills, diffs, success, high_effort = create_priors_opt(\n",
    "    n_samples=1000, tao_skill=tao_skill, u_skill=u_skill, cost=cost, A=A, B=B,\n",
    ")\n",
    "\n",
    "default_keywords = dict(\n",
    "    n_samples=1000, \n",
    "    cost=cost,\n",
    "    skill=skill, \n",
    "    A=A, \n",
    "    B=B,\n",
    ")\n",
    "\n",
    "efforthigh_success = your_eff_know_skill_opt(\n",
    "    diff=diffs[success & high_effort], **default_keywords,\n",
    ")\n",
    "effortlow_success = your_eff_know_skill_opt(\n",
    "    diff=diffs[success & (~high_effort)], **default_keywords\n",
    ")\n",
    "efforthigh_fail = your_eff_know_skill_opt(\n",
    "    diff=diffs[(~success) & high_effort], **default_keywords\n",
    ")\n",
    "effortlow_fail = your_eff_know_skill_opt(\n",
    "    diff=diffs[(~success) & (~high_effort)], **default_keywords\n",
    ")\n",
    "effortbaseline = your_eff_know_skill_opt(\n",
    "    diff=np.random.beta(.5, .5, size=100), **default_keywords,\n",
    ")\n",
    "\n",
    "scale = 200\n",
    "\n",
    "model_means = np.stack(\n",
    "    (efforthigh_success, effortlow_success, efforthigh_fail, \n",
    "     effortlow_fail, effortbaseline),\n",
    ").mean(-1)\n",
    "model_means *= scale\n",
    "\n",
    "d = {\n",
    "    'Model' : pd.Series(model_means, index=_results_index),\n",
    "    'Human' : human_means\n",
    "}\n",
    "\n",
    "df = pd.DataFrame(d)\n",
    "df"
   ]
  },
  {
   "cell_type": "code",
   "execution_count": null,
   "metadata": {
    "collapsed": true
   },
   "outputs": [],
   "source": []
  },
  {
   "cell_type": "code",
   "execution_count": null,
   "metadata": {
    "collapsed": true
   },
   "outputs": [],
   "source": []
  }
 ],
 "metadata": {
  "anaconda-cloud": {},
  "kernelspec": {
   "display_name": "Python [conda env:eegfmri]",
   "language": "python",
   "name": "conda-env-eegfmri-py"
  },
  "language_info": {
   "codemirror_mode": {
    "name": "ipython",
    "version": 3
   },
   "file_extension": ".py",
   "mimetype": "text/x-python",
   "name": "python",
   "nbconvert_exporter": "python",
   "pygments_lexer": "ipython3",
   "version": "3.6.3"
  },
  "toc": {
   "colors": {
    "hover_highlight": "#DAA520",
    "running_highlight": "#FF0000",
    "selected_highlight": "#FFD700"
   },
   "moveMenuLeft": true,
   "nav_menu": {
    "height": "120px",
    "width": "252px"
   },
   "navigate_menu": true,
   "number_sections": false,
   "sideBar": true,
   "threshold": 4,
   "toc_cell": false,
   "toc_section_display": "block",
   "toc_window_display": false,
   "widenNotebook": false
  }
 },
 "nbformat": 4,
 "nbformat_minor": 1
}
