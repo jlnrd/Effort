{
 "cells": [
  {
   "cell_type": "code",
   "execution_count": 17,
   "metadata": {
    "collapsed": false
   },
   "outputs": [],
   "source": [
    "import pandas as pd\n",
    "import glob as glob\n",
    "import numpy as np\n",
    "import matplotlib.pyplot as plt\n",
    "import seaborn as sns\n",
    "from scipy import optimize\n",
    "%matplotlib inline\n",
    "sns.set_style('white')"
   ]
  },
  {
   "cell_type": "markdown",
   "metadata": {},
   "source": [
    "### Set parameters"
   ]
  },
  {
   "cell_type": "code",
   "execution_count": 23,
   "metadata": {
    "collapsed": true
   },
   "outputs": [],
   "source": [
    "N_samples = 1000\n",
    "threshold = .5 \n",
    "REWARD = 1"
   ]
  },
  {
   "cell_type": "markdown",
   "metadata": {},
   "source": [
    "### Free parameters to fit"
   ]
  },
  {
   "cell_type": "code",
   "execution_count": 3,
   "metadata": {
    "collapsed": true
   },
   "outputs": [],
   "source": [
    "COST = 0.5\n",
    "B=6\n",
    "A=60 \n",
    "u_skill = .625 #mean of beta\n",
    "tao_skill = 20 #variance of beta\n",
    "skill=.4\n",
    "scale = 200"
   ]
  },
  {
   "cell_type": "markdown",
   "metadata": {},
   "source": [
    "### Functions"
   ]
  },
  {
   "cell_type": "code",
   "execution_count": 19,
   "metadata": {
    "collapsed": false
   },
   "outputs": [],
   "source": [
    "def prob_reward(e,diff,skill, A, B):\n",
    "    return 1/(1 + A * np.exp(-(e * skill / diff) * B)) \n",
    "\n",
    "def get_effort(reward, cost, diff, skill, A, B):\n",
    "    Us=list()\n",
    "    es = np.linspace(0, 1, 100) \n",
    "    for i in es:\n",
    "        U=reward*prob_reward(i, diff, skill, A, B)-cost*i #utility function\n",
    "        Us.append(U)\n",
    "    return es[np.argmax(Us)], Us, es  #return argmax of utility, and utilities \n",
    "\n",
    "def your_eff_know_skill(reward, cost, diff,skill, A, B):  #model for planning. Takes in diff, skill, and cost -returns effort\n",
    "    sampled_effort= list()\n",
    "    sampled_skill=list()\n",
    "    for i in xrange(N_samples):\n",
    "        d = np.random.choice(diff)\n",
    "        effort,_,_=get_effort(reward, cost, d, skill, A, B)\n",
    "        sampled_effort.append(effort)\n",
    "        sampled_skill.append(skill)\n",
    "    \n",
    "    return sampled_effort\n",
    "\n",
    "def create_priors(N_samples, tao_skill,u_skill, A, B, COST):\n",
    "    output = {\n",
    "        'sampled_skill_high':[],'sampled_diff_high':[],'sampled_skill_low':[],'sampled_diff_low':[],\n",
    "        'sampled_skill_low_fail':[],' sampled_diff_low_fail':[],'sampled_diff_low_fail':[],'sampled_skill_high_fail':[],\n",
    "        'sampled_diff_high_fail':[],'diff_samp':[],'skill_samp':[],'effort_samp':[],'success_samp':[]}\n",
    "    for _ in xrange(N_samples):\n",
    "        skill = np.random.beta(tao_skill*u_skill,(1-u_skill)*tao_skill) #skill is a beta function\n",
    "        diff = np.random.beta(.5,.5) #difficulty is a beta function\n",
    "        effort,_,_ = get_effort(REWARD, COST, diff, skill, A, B) \n",
    "        high_effort = effort > threshold\n",
    "        success = prob_reward(effort,diff,skill, A, B) > np.random.random()\n",
    "\n",
    "        output['diff_samp'].append(diff)\n",
    "        output['skill_samp'].append(skill)\n",
    "        output['effort_samp'].append(effort)\n",
    "        output['success_samp'].append(success)\n",
    "        if success and high_effort: \n",
    "            output['sampled_skill_high'].append(skill)\n",
    "            output['sampled_diff_high'].append(diff)\n",
    "        elif success and not high_effort: \n",
    "            output['sampled_skill_low'].append(skill)\n",
    "            output['sampled_diff_low'].append(diff)\n",
    "        elif not success and not high_effort: \n",
    "            output['sampled_skill_low_fail'].append(skill)\n",
    "            output['sampled_diff_low_fail'].append(diff)\n",
    "        elif not success and high_effort: \n",
    "            output['sampled_skill_high_fail'].append(skill)\n",
    "            output['sampled_diff_high_fail'].append(diff)\n",
    "\n",
    "    return output\n",
    "\n",
    "def rmse(predictions, targets):\n",
    "    return np.sqrt(((predictions - targets) ** 2).mean())"
   ]
  },
  {
   "cell_type": "markdown",
   "metadata": {},
   "source": [
    "### Function that takes in free parameters and spits out model predictions"
   ]
  },
  {
   "cell_type": "code",
   "execution_count": 32,
   "metadata": {
    "collapsed": false
   },
   "outputs": [],
   "source": [
    "def run_model(cost, A, B, u_skill,tao_skill, skill, scale):\n",
    "    REWARD=1\n",
    "    efforthigh_success=list()\n",
    "    effortlow_success=list()\n",
    "    efforthigh_fail = list()\n",
    "    effortlow_fail=list()\n",
    "    effortbaseline =list()\n",
    "    priors= create_priors(1000, tao_skill,u_skill, A,B,cost)\n",
    "    effort_high_success = your_eff_know_skill(REWARD, cost, priors['sampled_diff_high'],skill, A,B) \n",
    "    efforthigh_success.append(effort_high_success)\n",
    "    effort_low_success = your_eff_know_skill(REWARD, cost, priors['sampled_diff_low'],skill,A,B) \n",
    "    effortlow_success.append(effort_low_success)\n",
    "    effort_high_fail = your_eff_know_skill(REWARD, cost, priors['sampled_diff_high_fail'],skill,A,B) \n",
    "    efforthigh_fail.append(effort_high_fail)\n",
    "    effort_low_fail = your_eff_know_skill(REWARD, cost, priors['sampled_diff_low_fail'],skill,A,B) \n",
    "    effortlow_fail.append(effort_low_fail)\n",
    "    effort_baseline = your_eff_know_skill(REWARD, cost, np.random.beta(.5, .5, size=100),skill,A,B)\n",
    "    effortbaseline.append(effort_baseline)\n",
    "    \n",
    "    d = {'Model' : pd.Series([np.mean(efforthigh_success)*scale, np.mean(effortlow_success)*scale, np.mean(efforthigh_fail)*scale, np.mean(effortlow_fail)*scale, np.mean(effortbaseline)*scale], index=['High Effort Success', 'Low Effort Success', 'High Effort Failure', 'Low Effort Failure',\"Baseline\"]),\n",
    "     'Human' : pd.Series([107, 57, 30, 35,86], index=['High Effort Success', 'Low Effort Success', 'High Effort Failure', 'Low Effort Failure',\"Baseline\"])}\n",
    "    df = pd.DataFrame(d)\n",
    "    rmse_val = rmse( df['Model'],df['Human'])\n",
    "    return rmse_val"
   ]
  },
  {
   "cell_type": "code",
   "execution_count": 33,
   "metadata": {
    "collapsed": true
   },
   "outputs": [],
   "source": [
    "def wrapped_run_model(x):\n",
    "    return run_model(*x)"
   ]
  },
  {
   "cell_type": "code",
   "execution_count": 34,
   "metadata": {
    "collapsed": false
   },
   "outputs": [
    {
     "name": "stdout",
     "output_type": "stream",
     "text": [
      "1 loop, best of 3: 2.35 s per loop\n"
     ]
    },
    {
     "data": {
      "text/plain": [
       "22.149375623851721"
      ]
     },
     "execution_count": 34,
     "metadata": {},
     "output_type": "execute_result"
    }
   ],
   "source": [
    "inputs = np.array([0.5,60,6, .625, 20, .4, 200])\n",
    "%timeit wrapped_run_model(inputs)\n",
    "output"
   ]
  },
  {
   "cell_type": "code",
   "execution_count": 12,
   "metadata": {
    "collapsed": true
   },
   "outputs": [],
   "source": [
    "cost = 0.5\n",
    "B=6\n",
    "A=60 \n",
    "u_skill = .625 #mean of beta\n",
    "tao_skill = 20 #variance of beta\n",
    "skill=.4\n",
    "scale = 200\n",
    "threshold = .5\n",
    "priors=create_priors(1000, tao_skill, u_skill,  A, B, cost)\n"
   ]
  },
  {
   "cell_type": "markdown",
   "metadata": {},
   "source": [
    "### Optminize function"
   ]
  },
  {
   "cell_type": "code",
   "execution_count": 38,
   "metadata": {
    "collapsed": false
   },
   "outputs": [],
   "source": [
    "key_words=dict(cost = 0.5,B=6,A=60 ,u_skill = .625 ,tao_skill = 20, skill=.4, scale =200)\n",
    "rmse_val= run_model(**key_words)\n"
   ]
  },
  {
   "cell_type": "code",
   "execution_count": 50,
   "metadata": {
    "collapsed": false
   },
   "outputs": [
    {
     "name": "stdout",
     "output_type": "stream",
     "text": [
      "Warning: Maximum number of iterations has been exceeded.\n"
     ]
    }
   ],
   "source": [
    "inputs = np.array([0.5,60,6, .625, 20, .4, 200])\n",
    "minimum = optimize.fmin(wrapped_run_model, inputs, maxiter =10)"
   ]
  },
  {
   "cell_type": "code",
   "execution_count": 52,
   "metadata": {
    "collapsed": false
   },
   "outputs": [
    {
     "data": {
      "text/plain": [
       "array([   0.50270981,   59.3608913 ,    6.2575177 ,    0.62219193,\n",
       "         20.10839234,    0.40216785,  200.10932945])"
      ]
     },
     "execution_count": 52,
     "metadata": {},
     "output_type": "execute_result"
    }
   ],
   "source": [
    "minimum"
   ]
  },
  {
   "cell_type": "code",
   "execution_count": null,
   "metadata": {
    "collapsed": false,
    "scrolled": true
   },
   "outputs": [],
   "source": []
  },
  {
   "cell_type": "code",
   "execution_count": 13,
   "metadata": {
    "collapsed": false
   },
   "outputs": [
    {
     "data": {
      "text/html": [
       "<div>\n",
       "<table border=\"1\" class=\"dataframe\">\n",
       "  <thead>\n",
       "    <tr style=\"text-align: right;\">\n",
       "      <th></th>\n",
       "      <th>Human</th>\n",
       "      <th>Model</th>\n",
       "    </tr>\n",
       "  </thead>\n",
       "  <tbody>\n",
       "    <tr>\n",
       "      <th>High Effort Success</th>\n",
       "      <td>107</td>\n",
       "      <td>100.380202</td>\n",
       "    </tr>\n",
       "    <tr>\n",
       "      <th>Low Effort Success</th>\n",
       "      <td>57</td>\n",
       "      <td>58.324444</td>\n",
       "    </tr>\n",
       "    <tr>\n",
       "      <th>High Effort Failure</th>\n",
       "      <td>30</td>\n",
       "      <td>32.468687</td>\n",
       "    </tr>\n",
       "    <tr>\n",
       "      <th>Low Effort Failure</th>\n",
       "      <td>35</td>\n",
       "      <td>2.952121</td>\n",
       "    </tr>\n",
       "    <tr>\n",
       "      <th>Baseline</th>\n",
       "      <td>85</td>\n",
       "      <td>56.404242</td>\n",
       "    </tr>\n",
       "  </tbody>\n",
       "</table>\n",
       "</div>"
      ],
      "text/plain": [
       "                     Human       Model\n",
       "High Effort Success    107  100.380202\n",
       "Low Effort Success      57   58.324444\n",
       "High Effort Failure     30   32.468687\n",
       "Low Effort Failure      35    2.952121\n",
       "Baseline                85   56.404242"
      ]
     },
     "execution_count": 13,
     "metadata": {},
     "output_type": "execute_result"
    }
   ],
   "source": [
    "\n",
    "\n",
    "d = {'Model' : pd.Series([np.mean(efforthigh_success)*scale, np.mean(effortlow_success)*scale, np.mean(efforthigh_fail)*scale, np.mean(effortlow_fail)*scale, np.mean(effortbaseline)*scale], index=['High Effort Success', 'Low Effort Success', 'High Effort Failure', 'Low Effort Failure',\"Baseline\"]),\n",
    "     'Human' : pd.Series([107, 57, 30, 35,85], index=['High Effort Success', 'Low Effort Success', 'High Effort Failure', 'Low Effort Failure',\"Baseline\"])}\n",
    "\n",
    "df = pd.DataFrame(d)\n",
    "df"
   ]
  },
  {
   "cell_type": "code",
   "execution_count": null,
   "metadata": {
    "collapsed": false
   },
   "outputs": [],
   "source": []
  },
  {
   "cell_type": "code",
   "execution_count": null,
   "metadata": {
    "collapsed": false
   },
   "outputs": [],
   "source": []
  }
 ],
 "metadata": {
  "anaconda-cloud": {},
  "kernelspec": {
   "display_name": "Python [conda env:py27]",
   "language": "python",
   "name": "conda-env-py27-py"
  },
  "language_info": {
   "codemirror_mode": {
    "name": "ipython",
    "version": 2
   },
   "file_extension": ".py",
   "mimetype": "text/x-python",
   "name": "python",
   "nbconvert_exporter": "python",
   "pygments_lexer": "ipython2",
   "version": "2.7.12"
  }
 },
 "nbformat": 4,
 "nbformat_minor": 1
}
