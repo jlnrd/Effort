{
 "cells": [
  {
   "cell_type": "code",
   "execution_count": 1,
   "metadata": {
    "collapsed": false
   },
   "outputs": [],
   "source": [
    "%matplotlib inline\n",
    "\n",
    "from __future__ import division, print_function\n",
    "\n",
    "import glob as glob\n",
    "\n",
    "import pandas as pd\n",
    "import matplotlib.pyplot as plt\n",
    "import numpy as np\n",
    "import seaborn as sns\n",
    "from scipy import optimize\n",
    "\n",
    "sns.set_style('white')"
   ]
  },
  {
   "cell_type": "markdown",
   "metadata": {},
   "source": [
    "### Set parameters"
   ]
  },
  {
   "cell_type": "code",
   "execution_count": 2,
   "metadata": {
    "collapsed": true
   },
   "outputs": [],
   "source": [
    "N_samples = 10000\n",
    "threshold = .5 #threshold to pass to reach \"success\"\n",
    "REWARD = 1\n"
   ]
  },
  {
   "cell_type": "markdown",
   "metadata": {},
   "source": [
    "### Free parameters to fit (later on)"
   ]
  },
  {
   "cell_type": "code",
   "execution_count": 3,
   "metadata": {
    "collapsed": true
   },
   "outputs": [],
   "source": [
    "#COST = 0.5\n",
    "#B=6\n",
    "#A=60 \n",
    "#u_skill = .625 #mean of beta\n",
    "#tao_skill = 20 #variance of beta"
   ]
  },
  {
   "cell_type": "markdown",
   "metadata": {},
   "source": [
    "### Functions"
   ]
  },
  {
   "cell_type": "code",
   "execution_count": 9,
   "metadata": {
    "collapsed": false
   },
   "outputs": [],
   "source": [
    "def prob_reward(e,diff,skill, A, B):\n",
    "    \"\"\"Return the probability of getting the reward\n",
    "    \n",
    "    Parameters\n",
    "    ----------\n",
    "    e : numeric or array-like\n",
    "        Description of parameter 'effort'\n",
    "    diff: numeric or array-like \n",
    "        Description of parameter 'difficulty\"\n",
    "    skill: numeric or array-like \n",
    "        Description of parameter 'skill\"\n",
    "    A: numeric parameter that moves\n",
    "        Function left and right\n",
    "    B: numeric parameter than changes\n",
    "        Sharpness of function\n",
    "    \n",
    "    Returns\n",
    "    -------\n",
    "    Numeric or array-like value of probabilty of getting a reward between 0-1\n",
    "    ...\n",
    "    \"\"\"\n",
    "    return 1/(1 + A * np.exp(-(e * skill / diff) * B)) ##plot for different As (moves function around) and Bs (changes sharpness)\n",
    "\n",
    "\n",
    "def get_effort_multidim(cost, diff, skill, A, B, reward=1):\n",
    "    \"\"\"Function that returns optimal effort given different skills and difficulties.\n",
    "    Runs utility function of the form utility = reward* probability of getting\n",
    "    reward - cost* effort \n",
    "    Cost is set but scales with effort\n",
    "    Reward is set but scales with probability of getting it\n",
    "    This function finds the argmax value of utility and returns that as the \n",
    "    'optimal' effort that should be exerted given some difficuly, skill, cost, and reward.\n",
    "    \n",
    "\n",
    "    Parameters\n",
    "    ----------\n",
    "    cost : numeric description of 'cost'\n",
    "    diff: numeric or array-like \n",
    "        Description of parameter 'difficulty'\n",
    "    skill: numeric or array-like \n",
    "        Description of parameter 'skill'\n",
    "    A: numeric parameter that moves\n",
    "        Function left and right\n",
    "    B: numeric parameter than changes\n",
    "        Sharpness of function\n",
    "    reward: numeric set to 1 for 'reward'\n",
    "\n",
    "    Returns\n",
    "    -------\n",
    "    Ndarray of effort with same shape as `diff` and `skill`.\n",
    "    \"\"\"\n",
    "    es = np.linspace(0, 1, 100)\n",
    "    es_rank2 = es[np.newaxis, ...]\n",
    "    \n",
    "    try:\n",
    "        diff = diff[..., np.newaxis]\n",
    "    except TypeError:\n",
    "        pass\n",
    "    try:\n",
    "        skill = skill[..., np.newaxis]\n",
    "    except TypeError:\n",
    "        pass\n",
    "    \n",
    "    prob = prob_reward(e=es_rank2, diff=diff, skill=skill, A=A, B=B)\n",
    "    utilities = reward * prob - cost * es_rank2\n",
    "    return es[utilities.argmax(-1)]\n",
    "\n",
    "\n",
    "\n",
    "def create_priors_opt(n_samples, tao_skill, u_skill, u_diff, tao_diff, cost, A, B, reward=1, \n",
    "                      effort_threshold=0.5):\n",
    "    \"\"\"Model for creating priors of DIFFICULTY at different effort and success thresholds\n",
    "    \n",
    "    Parameters\n",
    "    ----------\n",
    "    n_samples : int of number of samples\n",
    "        You want to run\n",
    "    tao_skill: numeric, variance of skill beta function\n",
    "    u_skill: numeric, mean of skill beta function\n",
    "    cost : numeric of cost number\n",
    "    A : numeric scaling variable for \"prob_reward\"\n",
    "        That moves function left or right\n",
    "    B : numeric scaling variable for \"prob_reward\" \n",
    "        That sharpens peak of function\n",
    "    diff: numeric or array-like parameter\n",
    "        of difficulty\n",
    "    reward : numeric value of reward\n",
    "    effort_threshold: threshold that determines boundry\n",
    "        Between high and low effort\n",
    "    \n",
    "    Returns\n",
    "    -------\n",
    "    Ndarray of skill, success trials, and high effort trials\n",
    "    \"\"\"\n",
    "    # Skill and diff are beta distributions.\n",
    "    skills = np.random.beta(\n",
    "        tao_skill * u_skill, (1 - u_skill) * tao_skill, size=n_samples,\n",
    "    )\n",
    "    \n",
    "    u_diff = 0.5\n",
    "    tao_diff=1\n",
    "    \n",
    "    diffs = np.random.beta(tao_diff*u_diff , (1-u_diff)*tao_diff, size=n_samples)\n",
    "    \n",
    "    efforts = get_effort_multidim(\n",
    "        cost=cost, skill=skills, diff=diffs, A=A, B=B,\n",
    "    )\n",
    "\n",
    "    high_effort = efforts > effort_threshold\n",
    "    success = prob_reward(efforts, diffs, skills, A, B) > np.random.random(n_samples)\n",
    "\n",
    "    return skills, diffs, success, high_effort\n",
    "\n",
    "def your_eff_know_skill_opt(n_samples, cost, diff, skill, A, B,reward=1):\n",
    "    \"\"\"Model for planning.\n",
    "\n",
    "    Parameters\n",
    "    ----------\n",
    "    n_samples : int\n",
    "    cost : numeric\n",
    "    diff : array-like\n",
    "    skill : numeric\n",
    "    A : numeric\n",
    "    B : numeric\n",
    "    reward : numeric\n",
    "    \n",
    "    Returns\n",
    "    -------\n",
    "    Ndarray of effort.\n",
    "    \"\"\"\n",
    "    rand_diffs = np.random.choice(diff, size=n_samples)\n",
    "    return get_effort_multidim(\n",
    "        cost=cost, diff=rand_diffs, skill=skill, A=A, B=B, reward=reward\n",
    "    )\n",
    "\n",
    "\n",
    "\n",
    "def rmse(predictions, targets):\n",
    "    \"\"\"function for comparing model predictions to target data\n",
    "\n",
    "    Parameters\n",
    "    ----------\n",
    "    predictions: array of model predictions\n",
    "    targets: array of target data (human data)\n",
    "\n",
    "    Returns\n",
    "    -------\n",
    "    numeric value of root mean squared fit of values\n",
    "    \"\"\"\n",
    "    return np.sqrt(((predictions - targets) ** 2).mean())"
   ]
  },
  {
   "cell_type": "markdown",
   "metadata": {},
   "source": [
    "## Plot Utility Functions"
   ]
  },
  {
   "cell_type": "markdown",
   "metadata": {},
   "source": [
    "#### Variables I set --> free parameters"
   ]
  },
  {
   "cell_type": "code",
   "execution_count": 10,
   "metadata": {
    "collapsed": true
   },
   "outputs": [],
   "source": [
    "REWARD = 1\n",
    "COST = .5\n",
    "skilled = .8\n",
    "unskilled = .2\n",
    "hard = .8\n",
    "easy = .2\n",
    "A = 2\n",
    "B = 9"
   ]
  },
  {
   "cell_type": "markdown",
   "metadata": {},
   "source": [
    "#### First let's plot prob(reward) for varying levels of skill, effort, and difficulty"
   ]
  },
  {
   "cell_type": "code",
   "execution_count": 11,
   "metadata": {
    "collapsed": false
   },
   "outputs": [
    {
     "data": {
      "text/plain": [
       "Text(0.5,1,'Hard')"
      ]
     },
     "execution_count": 11,
     "metadata": {},
     "output_type": "execute_result"
    },
    {
     "data": {
      "image/png": "[encoded data removed]",
      "text/plain": [
       "<Figure size 432x288 with 2 Axes>"
      ]
     },
     "metadata": {},
     "output_type": "display_data"
    }
   ],
   "source": [
    "es=np.linspace(0,1,100)\n",
    "p0 = [prob_reward(e,easy,unskilled, A, B) for e in es]\n",
    "p1 = [prob_reward(e,easy,skilled,A, B) for e in es]\n",
    "\n",
    "plt.subplot(1,2,1)\n",
    "plt.plot(es, p1, label = \"skilled\")\n",
    "plt.plot(es,p0, label = \"unskilled\")\n",
    "plt.ylim([0,1])\n",
    "plt.legend(bbox_to_anchor=(0., 1.02, 1., .102), loc=3,\n",
    "           ncol=2, mode=\"expand\", borderaxespad=0.)\n",
    "plt.xlabel('Effort') ; plt.ylabel('p(reward)'); plt.title('Easy')\n",
    "\n",
    "p0 = [prob_reward(e,hard,unskilled,A, B) for e in es]\n",
    "p1 = [prob_reward(e,hard,skilled,A, B) for e in es]\n",
    "plt.subplot(1,2,2)\n",
    "plt.plot(es, p1, label = \"skilled\")\n",
    "plt.plot(es,p0,label = \"unskilled\")\n",
    "plt.tight_layout()\n",
    "plt.ylim([0,1])\n",
    "plt.legend(bbox_to_anchor=(0., 1.02, 1., .102), loc=3,\n",
    "           ncol=2, mode=\"expand\", borderaxespad=0.)\n",
    "plt.xlabel('Effort') ;  plt.title('Hard')"
   ]
  },
  {
   "cell_type": "markdown",
   "metadata": {},
   "source": [
    "Question for max - why does this function not start at prob reward = 0 when effort is 0??"
   ]
  },
  {
   "cell_type": "markdown",
   "metadata": {},
   "source": [
    "#### Function that is similar to \"get_effort_multidem\" but simpiler for plotting purposes\n",
    "* runs a utility function that finds the peak utility of \"effort\" for each combination of difficulty and skill"
   ]
  },
  {
   "cell_type": "code",
   "execution_count": 12,
   "metadata": {
    "collapsed": true
   },
   "outputs": [],
   "source": [
    "def get_effort(reward, cost, diff, skill):\n",
    "    Us=list()\n",
    "    es = np.linspace(0, 1, 100) \n",
    "    for i in es:\n",
    "        U=reward*prob_reward(i, diff, skill, A, B)-cost*i #utility function\n",
    "        Us.append(U)\n",
    "    return es[np.argmax(Us)], Us, es  #return argmax of utility, and utilities "
   ]
  },
  {
   "cell_type": "code",
   "execution_count": 13,
   "metadata": {
    "collapsed": false
   },
   "outputs": [
    {
     "data": {
      "image/png": "[encoded data removed]",
      "text/plain": [
       "<Figure size 432x288 with 4 Axes>"
      ]
     },
     "metadata": {},
     "output_type": "display_data"
    }
   ],
   "source": [
    "plt.subplot(2,2,1)\n",
    "effort,Us,es=get_effort(REWARD,COST,hard,skilled) \n",
    "plt.plot(es,Us)\n",
    "plt.plot(effort,max(Us),'r^')\n",
    "plt.xlabel('Effort')\n",
    "plt.ylabel('Utility')\n",
    "plt.title('High skill\\nHigh difficulty')\n",
    "plt.tight_layout()\n",
    "\n",
    "plt.subplot(2,2,2)\n",
    "effort,Us,es=get_effort(REWARD,COST,hard,unskilled) \n",
    "plt.plot(es,Us)\n",
    "plt.plot(effort,max(Us),'r^')\n",
    "plt.xlabel('Effort')\n",
    "plt.ylabel('Utility')\n",
    "plt.title('Low skill\\nHigh difficulty')\n",
    "plt.tight_layout()\n",
    "\n",
    "plt.subplot(2,2,3)\n",
    "effort,Us,es=get_effort(REWARD,COST,easy,skilled) \n",
    "plt.plot(es,Us)\n",
    "plt.plot(effort,max(Us),'r^')\n",
    "plt.xlabel('Effort')\n",
    "plt.ylabel('Utility')\n",
    "plt.title('High skill\\nLow difficulty')\n",
    "plt.tight_layout()\n",
    "\n",
    "plt.subplot(2,2,4)\n",
    "effort,Us,es=get_effort(REWARD,COST,easy,unskilled) \n",
    "plt.plot(es,Us)\n",
    "plt.plot(effort,max(Us),'r^')\n",
    "plt.xlabel('Effort')\n",
    "plt.ylabel('Utility')\n",
    "plt.title('Low skill\\nLow difficulty')\n",
    "plt.tight_layout()"
   ]
  },
  {
   "cell_type": "markdown",
   "metadata": {},
   "source": [
    "#### These plots capture our intutions about what should happen in each situation\n",
    "* High skill, high difficulty: you should have to try pretty hard\n",
    "* Low skill, high difficulty: you should have to try REALLY hard\n",
    "* High skill, low difficulty: you shouldn't have to try very hard\n",
    "* Low skill, low difficulty: you should have to try pretty hard\n",
    "\n",
    "All things being equal, the rank of trying here from most to least is:\n",
    "    1. low skill + high diff\n",
    "    2. high skill + high diff\n",
    "    3. low skill + low diff\n",
    "    4. high skill + low diff"
   ]
  },
  {
   "cell_type": "markdown",
   "metadata": {},
   "source": [
    "### Function that takes in free parameters and spits out model predictions"
   ]
  },
  {
   "cell_type": "code",
   "execution_count": 14,
   "metadata": {
    "collapsed": false
   },
   "outputs": [],
   "source": [
    "def run_model_opt(cost, A, B, u_skill, tao_skill, u_diff = 0.5, tao_diff = 1,n_samples=10000):\n",
    "    \"\"\"function that takes in free parameters and returns model predictions (predicted effort)\n",
    "    by condition (here split by high/low effort and success/failure). In other words,\n",
    "    given some set of another person's effort, outcome and skill, what is the expected difficulty \n",
    "    of the task? And how do you use this expected difficulty to calibrate your own effort, condisering \n",
    "    your own skill. \n",
    "\n",
    "    Parameters\n",
    "    ----------\n",
    "    cost : numeric of cost number\n",
    "    A : numeric scaling variable for \"prob_reward\"\n",
    "        That moves function left or right\n",
    "    B : numeric scaling variable for \"prob_reward\" \n",
    "        That sharpens peak of function\n",
    "    tao_skill: numeric, variance of skill beta function\n",
    "    u_skill: numeric, mean of skill beta function\n",
    "    tao_diff: numeric, variance of diff beta function\n",
    "    u_diff: numeric, mean of diff beta function\n",
    "\n",
    "\n",
    "    Returns\n",
    "    -------\n",
    "    means of effort calculated for each n_sample calculation done at a given difficulty\n",
    "    and success level\n",
    "    \"\"\"\n",
    "    \n",
    "    np.random.seed(0)\n",
    "    REWARD=1\n",
    "    skill = .5\n",
    "    \n",
    "    \n",
    "    skills, diffs, success, high_effort= create_priors_opt(\n",
    "        n_samples =n_samples, tao_skill=tao_skill, u_skill=u_skill, cost=cost, A=A, B=B,\n",
    "        u_diff=u_diff, tao_diff=tao_diff\n",
    "    )\n",
    "\n",
    "    effort_high_success = your_eff_know_skill_opt(n_samples, cost, diffs[success & high_effort],skill, A,B) \n",
    "    effort_low_success = your_eff_know_skill_opt(n_samples,  cost, diffs[success & (~high_effort)],skill,A,B) \n",
    "    effort_high_fail = your_eff_know_skill_opt(n_samples,  cost, diffs[(~success) & high_effort],skill,A,B) \n",
    "    effort_low_fail = your_eff_know_skill_opt(n_samples,  cost, diffs[(~success) & (~high_effort)],skill,A,B) \n",
    "    effort_baseline = your_eff_know_skill_opt(n_samples,  cost, np.random.beta(tao_diff*u_diff, (1-u_diff)*tao_diff, size=n_samples),skills,A,B)\n",
    "\n",
    "\n",
    "    model_means = np.stack(\n",
    "        (effort_high_success, effort_low_success, effort_high_fail, \n",
    "         effort_low_fail, effort_baseline),\n",
    "    ).mean(-1)\n",
    "    \n",
    "    return model_means\n"
   ]
  },
  {
   "cell_type": "code",
   "execution_count": 15,
   "metadata": {
    "collapsed": false
   },
   "outputs": [
    {
     "data": {
      "text/plain": [
       "array([0.41143939, 0.28093434, 0.4162798 , 0.39954545, 0.21211313])"
      ]
     },
     "execution_count": 15,
     "metadata": {},
     "output_type": "execute_result"
    }
   ],
   "source": [
    "output= run_model_opt(cost = .6, A = 2, B = 9, u_skill = .5, tao_skill = 1,  n_samples=10000) #play with parameters\n",
    "output\n"
   ]
  },
  {
   "cell_type": "markdown",
   "metadata": {
    "collapsed": false
   },
   "source": [
    "## Create priors and model predictions where the modeler is VERY skilled"
   ]
  },
  {
   "cell_type": "code",
   "execution_count": 16,
   "metadata": {
    "collapsed": false
   },
   "outputs": [],
   "source": [
    "def create_priors_highS(n_samples,  cost, A, B, u_diff = 0.5, tao_diff=1,  reward=1, \n",
    "                      threshold=0.5):\n",
    "    \"\"\"Model for creating priors of skill at different effort and success thresholds\n",
    "    \n",
    "    Parameters\n",
    "    ----------\n",
    "    n_samples : int of number of samples\n",
    "        You want to run\n",
    "\n",
    "    Returns\n",
    "    -------\n",
    "    Ndarray of skill, success trials, and high effort trials\n",
    "    \"\"\"\n",
    "    # Skill and diff are beta distributions.\n",
    "    high_skill = .8\n",
    "    \n",
    "    diffs = np.random.beta(tao_diff*u_diff , (1-u_diff)*tao_diff, size=n_samples)\n",
    "    \n",
    "    efforts = get_effort_multidim(\n",
    "        cost=cost, skill=high_skill, diff=diffs, A=A, B=B,\n",
    "    )\n",
    "    \n",
    "    high_effort = efforts > threshold\n",
    "    success = prob_reward(efforts, diffs,high_skill, A, B) > np.random.random(n_samples)\n",
    "    \n",
    "    \n",
    "    return success, high_effort, diffs\n",
    "\n",
    "def run_model_highS(cost, A, B,  u_diff = 0.5, tao_diff = 1, n_samples=10000):\n",
    "    \"\"\"function that takes in free parameters and returns model predictions (predicted effort)\n",
    "    when skill is high only \n",
    "    Parameters\n",
    "    ----------\n",
    "    \"\"\"\n",
    "    \n",
    "    np.random.seed(0)\n",
    "    REWARD=1\n",
    "    skill = .2 #lower skill than modeler\n",
    "    \n",
    "    success, high_effort, diffs= create_priors_highS(\n",
    "        n_samples =n_samples, cost=cost, A=A, B=B,u_diff=u_diff, tao_diff=tao_diff\n",
    "    )\n",
    "    \n",
    "\n",
    "    effort_high_success = your_eff_know_skill_opt(n_samples, cost, diffs[success & high_effort],skill, A,B) \n",
    "    effort_low_success = your_eff_know_skill_opt(n_samples,  cost, diffs[success & (~high_effort)],skill,A,B) \n",
    "    effort_high_fail = your_eff_know_skill_opt(n_samples,  cost, diffs[(~success) & high_effort],skill,A,B) \n",
    "    effort_low_fail = your_eff_know_skill_opt(n_samples,  cost, diffs[(~success) & (~high_effort)],skill,A,B) \n",
    "    effort_baseline = your_eff_know_skill_opt(n_samples,  cost, np.random.beta(tao_diff*u_diff, (1-u_diff)*tao_diff, size=n_samples),skill,A,B)\n",
    "\n",
    "\n",
    "    model_means = np.stack(\n",
    "        (effort_high_success, effort_low_success, effort_high_fail, \n",
    "         effort_low_fail, effort_baseline),\n",
    "    ).mean(-1)\n",
    "    \n",
    "\n",
    "    return model_means,effort_high_success ,effort_low_success,effort_high_fail ,effort_low_fail, effort_baseline \n",
    "\n"
   ]
  },
  {
   "cell_type": "code",
   "execution_count": 17,
   "metadata": {
    "collapsed": false
   },
   "outputs": [
    {
     "data": {
      "text/plain": [
       "array([1.        , 0.60112828, 1.        , 0.89258788, 0.67122828])"
      ]
     },
     "execution_count": 17,
     "metadata": {},
     "output_type": "execute_result"
    }
   ],
   "source": [
    "model_means,effort_high_success ,effort_low_success,effort_high_fail ,effort_low_fail, effort_baseline = run_model_highS(cost = .3, A = 2, B = 9,  n_samples=10000) #play with parameters\n",
    "model_means"
   ]
  },
  {
   "cell_type": "markdown",
   "metadata": {
    "collapsed": false
   },
   "source": [
    "## Plot out predicted effort by condition when the modeler is VERY skilled"
   ]
  },
  {
   "cell_type": "code",
   "execution_count": 18,
   "metadata": {
    "collapsed": false
   },
   "outputs": [
    {
     "data": {
      "text/html": [
       "<div>\n",
       "<style scoped>\n",
       "    .dataframe tbody tr th:only-of-type {\n",
       "        vertical-align: middle;\n",
       "    }\n",
       "\n",
       "    .dataframe tbody tr th {\n",
       "        vertical-align: top;\n",
       "    }\n",
       "\n",
       "    .dataframe thead th {\n",
       "        text-align: right;\n",
       "    }\n",
       "</style>\n",
       "<table border=\"1\" class=\"dataframe\">\n",
       "  <thead>\n",
       "    <tr style=\"text-align: right;\">\n",
       "      <th></th>\n",
       "      <th>Baseline</th>\n",
       "      <th>High Effort Failure</th>\n",
       "      <th>High Effort Success</th>\n",
       "      <th>Low Effort Failure</th>\n",
       "      <th>Low Effort Success</th>\n",
       "    </tr>\n",
       "  </thead>\n",
       "  <tbody>\n",
       "    <tr>\n",
       "      <th>0</th>\n",
       "      <td>0.272727</td>\n",
       "      <td>1.0</td>\n",
       "      <td>1.0</td>\n",
       "      <td>1.000000</td>\n",
       "      <td>1.000000</td>\n",
       "    </tr>\n",
       "    <tr>\n",
       "      <th>1</th>\n",
       "      <td>1.000000</td>\n",
       "      <td>1.0</td>\n",
       "      <td>1.0</td>\n",
       "      <td>0.989899</td>\n",
       "      <td>1.000000</td>\n",
       "    </tr>\n",
       "    <tr>\n",
       "      <th>2</th>\n",
       "      <td>0.838384</td>\n",
       "      <td>1.0</td>\n",
       "      <td>1.0</td>\n",
       "      <td>1.000000</td>\n",
       "      <td>0.262626</td>\n",
       "    </tr>\n",
       "    <tr>\n",
       "      <th>3</th>\n",
       "      <td>0.545455</td>\n",
       "      <td>1.0</td>\n",
       "      <td>1.0</td>\n",
       "      <td>0.909091</td>\n",
       "      <td>1.000000</td>\n",
       "    </tr>\n",
       "    <tr>\n",
       "      <th>4</th>\n",
       "      <td>1.000000</td>\n",
       "      <td>1.0</td>\n",
       "      <td>1.0</td>\n",
       "      <td>1.000000</td>\n",
       "      <td>0.909091</td>\n",
       "    </tr>\n",
       "  </tbody>\n",
       "</table>\n",
       "</div>"
      ],
      "text/plain": [
       "   Baseline  High Effort Failure  High Effort Success  Low Effort Failure  \\\n",
       "0  0.272727                  1.0                  1.0            1.000000   \n",
       "1  1.000000                  1.0                  1.0            0.989899   \n",
       "2  0.838384                  1.0                  1.0            1.000000   \n",
       "3  0.545455                  1.0                  1.0            0.909091   \n",
       "4  1.000000                  1.0                  1.0            1.000000   \n",
       "\n",
       "   Low Effort Success  \n",
       "0            1.000000  \n",
       "1            1.000000  \n",
       "2            0.262626  \n",
       "3            1.000000  \n",
       "4            0.909091  "
      ]
     },
     "execution_count": 18,
     "metadata": {},
     "output_type": "execute_result"
    }
   ],
   "source": [
    "d = {'High Effort Success':  effort_high_success, 'Low Effort Success': effort_low_success, 'High Effort Failure': effort_high_fail, 'Low Effort Failure': effort_low_fail,\"Baseline\":effort_baseline}\n",
    "eff_df = pd.DataFrame(data=d)\n",
    "eff_df.head()"
   ]
  },
  {
   "cell_type": "code",
   "execution_count": 29,
   "metadata": {
    "collapsed": false
   },
   "outputs": [
    {
     "data": {
      "text/html": [
       "<div>\n",
       "<style scoped>\n",
       "    .dataframe tbody tr th:only-of-type {\n",
       "        vertical-align: middle;\n",
       "    }\n",
       "\n",
       "    .dataframe tbody tr th {\n",
       "        vertical-align: top;\n",
       "    }\n",
       "\n",
       "    .dataframe thead th {\n",
       "        text-align: right;\n",
       "    }\n",
       "</style>\n",
       "<table border=\"1\" class=\"dataframe\">\n",
       "  <thead>\n",
       "    <tr style=\"text-align: right;\">\n",
       "      <th></th>\n",
       "      <th>variable</th>\n",
       "      <th>value</th>\n",
       "    </tr>\n",
       "  </thead>\n",
       "  <tbody>\n",
       "    <tr>\n",
       "      <th>0</th>\n",
       "      <td>High Effort Success</td>\n",
       "      <td>1.0</td>\n",
       "    </tr>\n",
       "    <tr>\n",
       "      <th>1</th>\n",
       "      <td>High Effort Success</td>\n",
       "      <td>1.0</td>\n",
       "    </tr>\n",
       "    <tr>\n",
       "      <th>2</th>\n",
       "      <td>High Effort Success</td>\n",
       "      <td>1.0</td>\n",
       "    </tr>\n",
       "    <tr>\n",
       "      <th>3</th>\n",
       "      <td>High Effort Success</td>\n",
       "      <td>1.0</td>\n",
       "    </tr>\n",
       "    <tr>\n",
       "      <th>4</th>\n",
       "      <td>High Effort Success</td>\n",
       "      <td>1.0</td>\n",
       "    </tr>\n",
       "  </tbody>\n",
       "</table>\n",
       "</div>"
      ],
      "text/plain": [
       "              variable  value\n",
       "0  High Effort Success    1.0\n",
       "1  High Effort Success    1.0\n",
       "2  High Effort Success    1.0\n",
       "3  High Effort Success    1.0\n",
       "4  High Effort Success    1.0"
      ]
     },
     "execution_count": 29,
     "metadata": {},
     "output_type": "execute_result"
    }
   ],
   "source": [
    "eff_melt=pd.melt(eff_df, value_vars=['High Effort Success','Low Effort Success','High Effort Failure', 'Low Effort Failure',])\n",
    "eff_melt.head()"
   ]
  },
  {
   "cell_type": "markdown",
   "metadata": {},
   "source": []
  },
  {
   "cell_type": "code",
   "execution_count": 30,
   "metadata": {
    "collapsed": false
   },
   "outputs": [
    {
     "data": {
      "image/png": "[encoded data removed]",
      "text/plain": [
       "<Figure size 432x288 with 1 Axes>"
      ]
     },
     "metadata": {},
     "output_type": "display_data"
    }
   ],
   "source": [
    "ax=sns.boxplot(x=\"variable\", y=\"value\", data=eff_melt).set_title(\"Child less skilled than model\")\n"
   ]
  },
  {
   "cell_type": "markdown",
   "metadata": {
    "collapsed": true
   },
   "source": [
    "Interpretation: if the child is less skilled than the modeler, they should:\n",
    "* try max hard when the model tries hard and succeeds\n",
    "* should try medium hard when the model doesn't have to try hard and succeed\n",
    "* try max hard when the model tries hard and fails --> QUESTION, does this seem right?\n",
    "* try really hard when the model puts in little effort and fails --> are we even running this condition? What does this mean?"
   ]
  },
  {
   "cell_type": "markdown",
   "metadata": {
    "collapsed": false
   },
   "source": [
    "## Create priors and model predictions where the modeler is NOT skilled"
   ]
  },
  {
   "cell_type": "code",
   "execution_count": 37,
   "metadata": {
    "collapsed": false
   },
   "outputs": [],
   "source": [
    "def create_priors_LowS(n_samples,  cost, A, B, u_diff = 0.5, tao_diff=1,  reward=1, \n",
    "                      threshold=0.5):\n",
    "    \"\"\"Model for creating priors of skill at different effort and success thresholds\n",
    "    \n",
    "    Parameters\n",
    "    ----------\n",
    "    n_samples : int of number of samples\n",
    "        You want to run\n",
    "\n",
    "    Returns\n",
    "    -------\n",
    "    Ndarray of skill, success trials, and high effort trials\n",
    "    \"\"\"\n",
    "    # Skill and diff are beta distributions.\n",
    "    low_skill = .2\n",
    "    \n",
    "    diffs = np.random.beta(tao_diff*u_diff , (1-u_diff)*tao_diff, size=n_samples)\n",
    "    \n",
    "    efforts = get_effort_multidim(\n",
    "        cost=cost, skill=low_skill, diff=diffs, A=A, B=B,\n",
    "    )\n",
    "    \n",
    "    high_effort = efforts > threshold\n",
    "    success = prob_reward(efforts, diffs,low_skill, A, B) > np.random.random(n_samples)\n",
    "    \n",
    "    \n",
    "    return success, high_effort, diffs\n",
    "\n",
    "def run_model_LowS(cost, A, B,  u_diff = 0.5, tao_diff = 1, n_samples=10000):\n",
    "    \"\"\"function that takes in free parameters and returns model predictions (predicted effort)\n",
    "    when skill is high only \n",
    "    Parameters\n",
    "    ----------\n",
    "    \"\"\"\n",
    "    \n",
    "    np.random.seed(0)\n",
    "    REWARD=1\n",
    "    skill = .8 #higher skill than modeler\n",
    "    \n",
    "    success, high_effort, diffs= create_priors_LowS(\n",
    "        n_samples =n_samples, cost=cost, A=A, B=B,u_diff=u_diff, tao_diff=tao_diff\n",
    "    )\n",
    "    \n",
    "\n",
    "    effort_high_success = your_eff_know_skill_opt(n_samples, cost, diffs[success & high_effort],skill, A,B) \n",
    "    effort_low_success = your_eff_know_skill_opt(n_samples,  cost, diffs[success & (~high_effort)],skill,A,B) \n",
    "    effort_high_fail = your_eff_know_skill_opt(n_samples,  cost, diffs[(~success) & high_effort],skill,A,B) \n",
    "    effort_low_fail = your_eff_know_skill_opt(n_samples,  cost, diffs[(~success) & (~high_effort)],skill,A,B) \n",
    "    effort_baseline = your_eff_know_skill_opt(n_samples,  cost, np.random.beta(tao_diff*u_diff, (1-u_diff)*tao_diff, size=n_samples),skill,A,B)\n",
    "\n",
    "\n",
    "    model_means = np.stack(\n",
    "        (effort_high_success, effort_low_success, effort_high_fail, \n",
    "         effort_low_fail, effort_baseline),\n",
    "    ).mean(-1)\n",
    "    \n",
    "\n",
    "    return model_means,effort_high_success ,effort_low_success,effort_high_fail ,effort_low_fail, effort_baseline \n"
   ]
  },
  {
   "cell_type": "code",
   "execution_count": 38,
   "metadata": {
    "collapsed": false
   },
   "outputs": [
    {
     "data": {
      "text/plain": [
       "array([0.39141616, 0.06785859, 0.44678586, 0.11940303, 0.28918283])"
      ]
     },
     "execution_count": 38,
     "metadata": {},
     "output_type": "execute_result"
    }
   ],
   "source": [
    "model_means,effort_high_success ,effort_low_success,effort_high_fail ,effort_low_fail, effort_baseline = run_model_LowS(cost = .3, A = 2, B = 9,  n_samples=10000) #play with parameters\n",
    "model_means"
   ]
  },
  {
   "cell_type": "markdown",
   "metadata": {
    "collapsed": false
   },
   "source": [
    "## Plot out predicted effort by condition when the modeler is NOT skilled"
   ]
  },
  {
   "cell_type": "code",
   "execution_count": 39,
   "metadata": {
    "collapsed": false
   },
   "outputs": [
    {
     "data": {
      "text/html": [
       "<div>\n",
       "<style scoped>\n",
       "    .dataframe tbody tr th:only-of-type {\n",
       "        vertical-align: middle;\n",
       "    }\n",
       "\n",
       "    .dataframe tbody tr th {\n",
       "        vertical-align: top;\n",
       "    }\n",
       "\n",
       "    .dataframe thead th {\n",
       "        text-align: right;\n",
       "    }\n",
       "</style>\n",
       "<table border=\"1\" class=\"dataframe\">\n",
       "  <thead>\n",
       "    <tr style=\"text-align: right;\">\n",
       "      <th></th>\n",
       "      <th>Baseline</th>\n",
       "      <th>High Effort Failure</th>\n",
       "      <th>High Effort Success</th>\n",
       "      <th>Low Effort Failure</th>\n",
       "      <th>Low Effort Success</th>\n",
       "    </tr>\n",
       "  </thead>\n",
       "  <tbody>\n",
       "    <tr>\n",
       "      <th>0</th>\n",
       "      <td>0.525253</td>\n",
       "      <td>0.525253</td>\n",
       "      <td>0.505051</td>\n",
       "      <td>0.141414</td>\n",
       "      <td>0.060606</td>\n",
       "    </tr>\n",
       "    <tr>\n",
       "      <th>1</th>\n",
       "      <td>0.414141</td>\n",
       "      <td>0.525253</td>\n",
       "      <td>0.464646</td>\n",
       "      <td>0.101010</td>\n",
       "      <td>0.111111</td>\n",
       "    </tr>\n",
       "    <tr>\n",
       "      <th>2</th>\n",
       "      <td>0.030303</td>\n",
       "      <td>0.515152</td>\n",
       "      <td>0.494949</td>\n",
       "      <td>0.151515</td>\n",
       "      <td>0.010101</td>\n",
       "    </tr>\n",
       "    <tr>\n",
       "      <th>3</th>\n",
       "      <td>0.262626</td>\n",
       "      <td>0.515152</td>\n",
       "      <td>0.444444</td>\n",
       "      <td>0.161616</td>\n",
       "      <td>0.090909</td>\n",
       "    </tr>\n",
       "    <tr>\n",
       "      <th>4</th>\n",
       "      <td>0.525253</td>\n",
       "      <td>0.494949</td>\n",
       "      <td>0.363636</td>\n",
       "      <td>0.030303</td>\n",
       "      <td>0.010101</td>\n",
       "    </tr>\n",
       "  </tbody>\n",
       "</table>\n",
       "</div>"
      ],
      "text/plain": [
       "   Baseline  High Effort Failure  High Effort Success  Low Effort Failure  \\\n",
       "0  0.525253             0.525253             0.505051            0.141414   \n",
       "1  0.414141             0.525253             0.464646            0.101010   \n",
       "2  0.030303             0.515152             0.494949            0.151515   \n",
       "3  0.262626             0.515152             0.444444            0.161616   \n",
       "4  0.525253             0.494949             0.363636            0.030303   \n",
       "\n",
       "   Low Effort Success  \n",
       "0            0.060606  \n",
       "1            0.111111  \n",
       "2            0.010101  \n",
       "3            0.090909  \n",
       "4            0.010101  "
      ]
     },
     "execution_count": 39,
     "metadata": {},
     "output_type": "execute_result"
    }
   ],
   "source": [
    "d = {'High Effort Success':  effort_high_success, 'Low Effort Success': effort_low_success, 'High Effort Failure': effort_high_fail, 'Low Effort Failure': effort_low_fail,\"Baseline\":effort_baseline}\n",
    "eff_df = pd.DataFrame(data=d)\n",
    "eff_df.head()"
   ]
  },
  {
   "cell_type": "code",
   "execution_count": 40,
   "metadata": {
    "collapsed": false
   },
   "outputs": [
    {
     "data": {
      "text/html": [
       "<div>\n",
       "<style scoped>\n",
       "    .dataframe tbody tr th:only-of-type {\n",
       "        vertical-align: middle;\n",
       "    }\n",
       "\n",
       "    .dataframe tbody tr th {\n",
       "        vertical-align: top;\n",
       "    }\n",
       "\n",
       "    .dataframe thead th {\n",
       "        text-align: right;\n",
       "    }\n",
       "</style>\n",
       "<table border=\"1\" class=\"dataframe\">\n",
       "  <thead>\n",
       "    <tr style=\"text-align: right;\">\n",
       "      <th></th>\n",
       "      <th>variable</th>\n",
       "      <th>value</th>\n",
       "    </tr>\n",
       "  </thead>\n",
       "  <tbody>\n",
       "    <tr>\n",
       "      <th>0</th>\n",
       "      <td>High Effort Success</td>\n",
       "      <td>0.505051</td>\n",
       "    </tr>\n",
       "    <tr>\n",
       "      <th>1</th>\n",
       "      <td>High Effort Success</td>\n",
       "      <td>0.464646</td>\n",
       "    </tr>\n",
       "    <tr>\n",
       "      <th>2</th>\n",
       "      <td>High Effort Success</td>\n",
       "      <td>0.494949</td>\n",
       "    </tr>\n",
       "    <tr>\n",
       "      <th>3</th>\n",
       "      <td>High Effort Success</td>\n",
       "      <td>0.444444</td>\n",
       "    </tr>\n",
       "    <tr>\n",
       "      <th>4</th>\n",
       "      <td>High Effort Success</td>\n",
       "      <td>0.363636</td>\n",
       "    </tr>\n",
       "  </tbody>\n",
       "</table>\n",
       "</div>"
      ],
      "text/plain": [
       "              variable     value\n",
       "0  High Effort Success  0.505051\n",
       "1  High Effort Success  0.464646\n",
       "2  High Effort Success  0.494949\n",
       "3  High Effort Success  0.444444\n",
       "4  High Effort Success  0.363636"
      ]
     },
     "execution_count": 40,
     "metadata": {},
     "output_type": "execute_result"
    }
   ],
   "source": [
    "eff_melt=pd.melt(eff_df, value_vars=['High Effort Success','Low Effort Success','High Effort Failure', 'Low Effort Failure',])\n",
    "eff_melt.head()"
   ]
  },
  {
   "cell_type": "markdown",
   "metadata": {},
   "source": []
  },
  {
   "cell_type": "code",
   "execution_count": 41,
   "metadata": {
    "collapsed": false
   },
   "outputs": [
    {
     "data": {
      "image/png": "[encoded data removed]",
      "text/plain": [
       "<Figure size 432x288 with 1 Axes>"
      ]
     },
     "metadata": {},
     "output_type": "display_data"
    }
   ],
   "source": [
    "ax=sns.boxplot(x=\"variable\", y=\"value\", data=eff_melt).set_title(\"Child more skilled than model\")"
   ]
  },
  {
   "cell_type": "markdown",
   "metadata": {
    "collapsed": true
   },
   "source": [
    "Interpretation: if the child is more skilled than the modeler, they should:\n",
    "\n",
    "* try very hard when the model tries hard and succeeds\n",
    "* not try very hard when the model doesn't have to try hard and succeeds\n",
    "* try very hard when the model tries hard and fails - harder then the effort + success model\n",
    "* try medium hard when the model doesn't try and fails"
   ]
  }
 ],
 "metadata": {
  "anaconda-cloud": {},
  "kernelspec": {
   "display_name": "Python 2",
   "language": "python",
   "name": "python2"
  },
  "language_info": {
   "codemirror_mode": {
    "name": "ipython",
    "version": 2
   },
   "file_extension": ".py",
   "mimetype": "text/x-python",
   "name": "python",
   "nbconvert_exporter": "python",
   "pygments_lexer": "ipython2",
   "version": "2.7.12"
  },
  "toc": {
   "colors": {
    "hover_highlight": "#DAA520",
    "running_highlight": "#FF0000",
    "selected_highlight": "#FFD700"
   },
   "moveMenuLeft": true,
   "nav_menu": {
    "height": "120px",
    "width": "252px"
   },
   "navigate_menu": true,
   "number_sections": false,
   "sideBar": true,
   "threshold": 4,
   "toc_cell": false,
   "toc_section_display": "block",
   "toc_window_display": false,
   "widenNotebook": false
  }
 },
 "nbformat": 4,
 "nbformat_minor": 1
}
