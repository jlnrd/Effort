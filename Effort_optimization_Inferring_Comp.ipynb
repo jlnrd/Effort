{
 "cells": [
  {
   "cell_type": "code",
   "execution_count": 1,
   "metadata": {
    "collapsed": false
   },
   "outputs": [
    {
     "name": "stderr",
     "output_type": "stream",
     "text": [
      "/Users/julialeonard/anaconda/lib/python2.7/site-packages/pandas/core/computation/__init__.py:18: UserWarning: The installed version of numexpr 2.0.1 is not supported in pandas and will be not be used\n",
      "The minimum supported version is 2.4.6\n",
      "\n",
      "  ver=ver, min_ver=_MIN_NUMEXPR_VERSION), UserWarning)\n",
      "/Users/julialeonard/anaconda/lib/python2.7/site-packages/matplotlib/__init__.py:913: UserWarning: axes.color_cycle is deprecated and replaced with axes.prop_cycle; please use the latter.\n",
      "  warnings.warn(self.msg_depr % (key, alt_key))\n"
     ]
    }
   ],
   "source": [
    "%matplotlib inline\n",
    "\n",
    "from __future__ import division, print_function\n",
    "\n",
    "import glob as glob\n",
    "\n",
    "import pandas as pd\n",
    "import matplotlib.pyplot as plt\n",
    "import numpy as np\n",
    "import seaborn as sns\n",
    "from scipy import optimize\n",
    "\n",
    "sns.set_style('white')"
   ]
  },
  {
   "cell_type": "markdown",
   "metadata": {},
   "source": [
    "### Set parameters"
   ]
  },
  {
   "cell_type": "code",
   "execution_count": 2,
   "metadata": {
    "collapsed": true
   },
   "outputs": [],
   "source": [
    "N_samples = 10000\n",
    "threshold = .5 #threshold to pass to reach \"success\"\n",
    "REWARD = 1\n"
   ]
  },
  {
   "cell_type": "markdown",
   "metadata": {},
   "source": [
    "### Free parameters to fit (later on)"
   ]
  },
  {
   "cell_type": "code",
   "execution_count": 3,
   "metadata": {
    "collapsed": true
   },
   "outputs": [],
   "source": [
    "#COST = 0.5\n",
    "#B=6\n",
    "#A=60 \n",
    "#u_skill = .625 #mean of beta\n",
    "#tao_skill = 20 #variance of beta"
   ]
  },
  {
   "cell_type": "markdown",
   "metadata": {},
   "source": [
    "### Functions"
   ]
  },
  {
   "cell_type": "code",
   "execution_count": 37,
   "metadata": {
    "collapsed": false
   },
   "outputs": [],
   "source": [
    "def prob_reward(e,diff,skill, A, B):\n",
    "    \"\"\"Return the probability of getting the reward\n",
    "    \n",
    "    Parameters\n",
    "    ----------\n",
    "    e : numeric or array-like\n",
    "        Description of parameter 'effort'\n",
    "    diff: numeric or array-like \n",
    "        Description of parameter 'difficulty\"\n",
    "    skill: numeric or array-like \n",
    "        Description of parameter 'skill\"\n",
    "    A: numeric parameter that moves\n",
    "        Function left and right\n",
    "    B: numeric parameter than changes\n",
    "        Sharpness of function\n",
    "    \n",
    "    Returns\n",
    "    -------\n",
    "    Numeric or array-like value of probabilty of getting a reward between 0-1\n",
    "    ...\n",
    "    \"\"\"\n",
    "    return 1/(1 + A * np.exp(-(e * skill / diff) * B)) ##plot for different As (moves function around) and Bs (changes sharpness)\n",
    "\n",
    "\n",
    "def get_effort_multidim(cost, diff, skill, A, B, reward=1):\n",
    "    \"\"\"Function that returns optimal effort given different skills and difficulties.\n",
    "    Runs utility function of the form utility = reward* probability of getting\n",
    "    reward - cost* effort \n",
    "    Cost is set but scales with effort\n",
    "    Reward is set but scales with probability of getting it\n",
    "    This function finds the argmax value of utility and returns that as the \n",
    "    'optimal' effort that should be exerted given some difficuly, skill, cost, and reward.\n",
    "    \n",
    "\n",
    "    Parameters\n",
    "    ----------\n",
    "    cost : numeric description of 'cost'\n",
    "    diff: numeric or array-like \n",
    "        Description of parameter 'difficulty'\n",
    "    skill: numeric or array-like \n",
    "        Description of parameter 'skill'\n",
    "    A: numeric parameter that moves\n",
    "        Function left and right\n",
    "    B: numeric parameter than changes\n",
    "        Sharpness of function\n",
    "    reward: numeric set to 1 for 'reward'\n",
    "\n",
    "    Returns\n",
    "    -------\n",
    "    Ndarray of effort with same shape as `diff` and `skill`.\n",
    "    \"\"\"\n",
    "    es = np.linspace(0, 1, 100)\n",
    "    es_rank2 = es[np.newaxis, ...]\n",
    "    \n",
    "    try:\n",
    "        diff = diff[..., np.newaxis]\n",
    "    except TypeError:\n",
    "        pass\n",
    "    try:\n",
    "        skill = skill[..., np.newaxis]\n",
    "    except TypeError:\n",
    "        pass\n",
    "    \n",
    "    prob = prob_reward(e=es_rank2, diff=diff, skill=skill, A=A, B=B)\n",
    "    utilities = reward * prob - cost * es_rank2\n",
    "    return es[utilities.argmax(-1)]\n",
    "\n",
    "\n",
    "\n",
    "def create_priors_opt(n_samples, tao_skill, u_skill, cost, A, B, diff, reward=1, \n",
    "                      effort_threshold=0.5):\n",
    "    \"\"\"Model for creating priors of skill at different effort and success thresholds\n",
    "    \n",
    "    Parameters\n",
    "    ----------\n",
    "    n_samples : int of number of samples\n",
    "        You want to run\n",
    "    tao_skill: numeric, variance of skill beta function\n",
    "    u_skill: numeric, mean of skill beta function\n",
    "    cost : numeric of cost number\n",
    "    A : numeric scaling variable for \"prob_reward\"\n",
    "        That moves function left or right\n",
    "    B : numeric scaling variable for \"prob_reward\" \n",
    "        That sharpens peak of function\n",
    "    diff: numeric or array-like parameter\n",
    "        of difficulty\n",
    "    reward : numeric value of reward\n",
    "    effort_threshold: threshold that determines boundry\n",
    "        Between high and low effort\n",
    "    \n",
    "    Returns\n",
    "    -------\n",
    "    Ndarray of skill, success trials, and high effort trials\n",
    "    \"\"\"\n",
    "    # Skill and diff are beta distributions.\n",
    "    skills = np.random.beta(\n",
    "        tao_skill * u_skill, (1 - u_skill) * tao_skill, size=n_samples,\n",
    "    )\n",
    "    \n",
    "    efforts = get_effort_multidim(\n",
    "        cost=cost, skill=skills, diff=diff, A=A, B=B,\n",
    "    )\n",
    "\n",
    "    high_effort = efforts > effort_threshold\n",
    "    success = prob_reward(efforts, diff, skills, A, B) > np.random.random(n_samples)\n",
    "\n",
    "    return skills,  success, high_effort, effort\n",
    "\n",
    "\n",
    "def rmse(predictions, targets):\n",
    "    \"\"\"function for comparing model predictions to target data\n",
    "\n",
    "    Parameters\n",
    "    ----------\n",
    "    predictions: array of model predictions\n",
    "    targets: array of target data (human data)\n",
    "\n",
    "    Returns\n",
    "    -------\n",
    "    numeric value of root mean squared fit of values\n",
    "    \"\"\"\n",
    "    return np.sqrt(((predictions - targets) ** 2).mean())"
   ]
  },
  {
   "cell_type": "markdown",
   "metadata": {},
   "source": [
    "## Plot Utility Functions"
   ]
  },
  {
   "cell_type": "markdown",
   "metadata": {},
   "source": [
    "#### Variables I set --> free parameters"
   ]
  },
  {
   "cell_type": "code",
   "execution_count": 4,
   "metadata": {
    "collapsed": true
   },
   "outputs": [],
   "source": [
    "REWARD = 1\n",
    "COST = .1\n",
    "skilled = .8\n",
    "unskilled = .4\n",
    "hard = .8\n",
    "easy = .2\n",
    "A = 2\n",
    "B = 9"
   ]
  },
  {
   "cell_type": "markdown",
   "metadata": {},
   "source": [
    "#### First let's plot prob(reward) for varying levels of skill, effort, and difficulty"
   ]
  },
  {
   "cell_type": "code",
   "execution_count": 5,
   "metadata": {
    "collapsed": false
   },
   "outputs": [
    {
     "data": {
      "text/plain": [
       "<matplotlib.text.Text at 0x112e10750>"
      ]
     },
     "execution_count": 5,
     "metadata": {},
     "output_type": "execute_result"
    },
    {
     "data": {
      "image/png": "[encoded data removed]",
      "text/plain": [
       "<matplotlib.figure.Figure at 0x1052fbed0>"
      ]
     },
     "metadata": {},
     "output_type": "display_data"
    }
   ],
   "source": [
    "es=np.linspace(0,1,100)\n",
    "p0 = [prob_reward(e,easy,unskilled, A, B) for e in es]\n",
    "p1 = [prob_reward(e,easy,skilled,A, B) for e in es]\n",
    "\n",
    "plt.subplot(1,2,1)\n",
    "plt.plot(es, p1, label = \"skilled\")\n",
    "plt.plot(es,p0, label = \"unskilled\")\n",
    "plt.ylim([0,1])\n",
    "plt.legend(bbox_to_anchor=(0., 1.02, 1., .102), loc=3,\n",
    "           ncol=2, mode=\"expand\", borderaxespad=0.)\n",
    "plt.xlabel('Effort') ; plt.ylabel('p(reward)'); plt.title('Easy')\n",
    "\n",
    "p0 = [prob_reward(e,hard,unskilled,A, B) for e in es]\n",
    "p1 = [prob_reward(e,hard,skilled,A, B) for e in es]\n",
    "plt.subplot(1,2,2)\n",
    "plt.plot(es, p1, label = \"skilled\")\n",
    "plt.plot(es,p0,label = \"unskilled\")\n",
    "plt.tight_layout()\n",
    "plt.ylim([0,1])\n",
    "plt.legend(bbox_to_anchor=(0., 1.02, 1., .102), loc=3,\n",
    "           ncol=2, mode=\"expand\", borderaxespad=0.)\n",
    "plt.xlabel('Effort') ;  plt.title('Hard')"
   ]
  },
  {
   "cell_type": "markdown",
   "metadata": {},
   "source": [
    "Question for max - why does this function not start at prob reward = 0 when effort is 0??"
   ]
  },
  {
   "cell_type": "markdown",
   "metadata": {},
   "source": [
    "#### Function that is similar to \"get_effort_multidem\" but simpiler for plotting purposes\n",
    "* runs a utility function that finds the peak utility of \"effort\" for each combination of difficulty and skill"
   ]
  },
  {
   "cell_type": "code",
   "execution_count": 6,
   "metadata": {
    "collapsed": true
   },
   "outputs": [],
   "source": [
    "def get_effort(reward, cost, diff, skill):\n",
    "    Us=list()\n",
    "    es = np.linspace(0, 1, 100) \n",
    "    for i in es:\n",
    "        U=reward*prob_reward(i, diff, skill, A, B)-cost*i #utility function\n",
    "        Us.append(U)\n",
    "    return es[np.argmax(Us)], Us, es  #return argmax of utility, and utilities "
   ]
  },
  {
   "cell_type": "code",
   "execution_count": 7,
   "metadata": {
    "collapsed": false
   },
   "outputs": [
    {
     "data": {
      "image/png": "[encoded data removed]",
      "text/plain": [
       "<matplotlib.figure.Figure at 0x112f25290>"
      ]
     },
     "metadata": {},
     "output_type": "display_data"
    }
   ],
   "source": [
    "plt.subplot(2,2,1)\n",
    "effort,Us,es=get_effort(REWARD,COST,hard,skilled) \n",
    "plt.plot(es,Us)\n",
    "plt.plot(effort,max(Us),'r^')\n",
    "plt.xlabel('Effort')\n",
    "plt.ylabel('Utility')\n",
    "plt.title('High skill\\nHigh difficulty')\n",
    "plt.tight_layout()\n",
    "\n",
    "plt.subplot(2,2,2)\n",
    "effort,Us,es=get_effort(REWARD,COST,hard,unskilled) \n",
    "plt.plot(es,Us)\n",
    "plt.plot(effort,max(Us),'r^')\n",
    "plt.xlabel('Effort')\n",
    "plt.ylabel('Utility')\n",
    "plt.title('Low skill\\nHigh difficulty')\n",
    "plt.tight_layout()\n",
    "\n",
    "plt.subplot(2,2,3)\n",
    "effort,Us,es=get_effort(REWARD,COST,easy,skilled) \n",
    "plt.plot(es,Us)\n",
    "plt.plot(effort,max(Us),'r^')\n",
    "plt.xlabel('Effort')\n",
    "plt.ylabel('Utility')\n",
    "plt.title('High skill\\nLow difficulty')\n",
    "plt.tight_layout()\n",
    "\n",
    "plt.subplot(2,2,4)\n",
    "effort,Us,es=get_effort(REWARD,COST,easy,unskilled) \n",
    "plt.plot(es,Us)\n",
    "plt.plot(effort,max(Us),'r^')\n",
    "plt.xlabel('Effort')\n",
    "plt.ylabel('Utility')\n",
    "plt.title('Low skill\\nLow difficulty')\n",
    "plt.tight_layout()"
   ]
  },
  {
   "cell_type": "markdown",
   "metadata": {},
   "source": [
    "#### These plots capture our intutions about what should happen in each situation\n",
    "* High skill, high difficulty: you should have to try pretty hard\n",
    "* Low skill, high difficulty: you should have to try REALLY hard\n",
    "* High skill, low difficulty: you shouldn't have to try very hard\n",
    "* Low skill, low difficulty: you should have to try pretty hard\n",
    "\n",
    "All things being equal, the rank of trying here from most to least is:\n",
    "    1. low skill + high diff\n",
    "    2. high skill + high diff\n",
    "    3. low skill + low diff\n",
    "    4. high skill + low diff"
   ]
  },
  {
   "cell_type": "markdown",
   "metadata": {},
   "source": [
    "### Function that takes in free parameters and spits out model predictions"
   ]
  },
  {
   "cell_type": "code",
   "execution_count": 42,
   "metadata": {
    "collapsed": false
   },
   "outputs": [],
   "source": [
    "def run_model_opt(cost, A, B, u_skill, tao_skill, n_samples=10000):\n",
    "    \"\"\"function that takes in free parameters and returns model predictions (predicted skill)\n",
    "    by condition (here split by high/low effort and high/low difficulty). In other words,\n",
    "    Given some set of difficulty and effort, how skilled is this agent?\n",
    "\n",
    "    Parameters\n",
    "    ----------\n",
    "    cost : numeric of cost number\n",
    "    A : numeric scaling variable for \"prob_reward\"\n",
    "        That moves function left or right\n",
    "    B : numeric scaling variable for \"prob_reward\" \n",
    "        That sharpens peak of function\n",
    "    tao_skill: numeric, variance of skill beta function\n",
    "    u_skill: numeric, mean of skill beta function\n",
    "\n",
    "\n",
    "    Returns\n",
    "    -------\n",
    "    means of skill calculated for each n_sample calculation done at a given difficulty\n",
    "    and success level\n",
    "    \"\"\"\n",
    "    \n",
    "    np.random.seed(0)\n",
    "    REWARD=1\n",
    "    high_diff = .8 #arbitrarly set \n",
    "    low_diff = .2  #arbitrarly set \n",
    "    \n",
    "    high_diff_skills, high_diff_success, high_diff_high_effort, effort_high_diff = create_priors_opt(\n",
    "        n_samples =n_samples, tao_skill=tao_skill, u_skill=u_skill, cost=cost, A=A, B=B, diff = high_diff\n",
    "    )\n",
    "\n",
    "    low_diff_skills, low_diff_success, low_diff_high_effort, effort_low_diff = create_priors_opt(\n",
    "        n_samples =n_samples, tao_skill=tao_skill, u_skill=u_skill, cost=cost, A=A, B=B, diff = low_diff\n",
    "    )\n",
    "    \n",
    "\n",
    "    skill_high_diff_high_eff = high_diff_skills[high_diff_success & high_diff_high_effort]\n",
    "    skill_high_diff_low_eff = high_diff_skills[high_diff_success & ~high_diff_high_effort]\n",
    "    skill_low_diff_high_eff = low_diff_skills[low_diff_success & low_diff_high_effort]\n",
    "    skill_low_diff_low_eff = low_diff_skills[low_diff_success & ~low_diff_high_effort]\n",
    "    \n",
    "    \n",
    "    skill_high_diff = np.append(skill_high_diff_high_eff,skill_high_diff_low_eff) #getting priors where diff is high\n",
    "    skill_high_eff = np.append(skill_high_diff_high_eff,skill_low_diff_low_eff) #getting priors where effort is high\n",
    "\n",
    "\n",
    "    print  (np.mean(skill_high_diff_high_eff),np.mean(skill_high_diff_low_eff)) #low num, high num\n",
    "    print (np.mean(skill_low_diff_high_eff),np.mean(skill_low_diff_low_eff)) #low num, medium num\n",
    "    \n",
    "    \n",
    "    df = pd.DataFrame([{'cond': 'High Difficulty \\n High Effort', 'post': s} for s in skill_high_diff_high_eff] +  \n",
    "                  [{'cond': 'High Difficulty  \\n Low Effort', 'post': s} for s in skill_high_diff_low_eff] +      \n",
    "                  [{'cond': 'Low Difficulty  \\n High Effort', 'post': s} for s in skill_low_diff_high_eff] +      \n",
    "                  [{'cond': 'Low Difficulty  \\n Low Effort', 'post': s} for s in skill_low_diff_low_eff])     \n",
    "\n",
    "    \n",
    "    return df, skill_high_diff, skill_high_eff\n"
   ]
  },
  {
   "cell_type": "code",
   "execution_count": 43,
   "metadata": {
    "collapsed": false
   },
   "outputs": [
    {
     "name": "stdout",
     "output_type": "stream",
     "text": [
      "0.531144218777 0.747864617097\n",
      "0.109723551356 0.685901275738\n"
     ]
    },
    {
     "data": {
      "text/plain": [
       "array([ 0.37061547,  0.55030586,  0.3008122 , ...,  0.80957043,\n",
       "        0.49974316,  0.80207531])"
      ]
     },
     "execution_count": 43,
     "metadata": {},
     "output_type": "execute_result"
    }
   ],
   "source": [
    "output, skill_high_diff, skill_high_eff = run_model_opt(cost = .1, A = 2, B = 9, u_skill = .5, tao_skill = 1,  n_samples=10000) #play with parameters\n",
    "output.head()\n",
    "skill_high_diff \n",
    "skill_high_eff"
   ]
  },
  {
   "cell_type": "code",
   "execution_count": 18,
   "metadata": {
    "collapsed": false
   },
   "outputs": [
    {
     "data": {
      "text/html": [
       "<div>\n",
       "<style>\n",
       "    .dataframe thead tr:only-child th {\n",
       "        text-align: right;\n",
       "    }\n",
       "\n",
       "    .dataframe thead th {\n",
       "        text-align: left;\n",
       "    }\n",
       "\n",
       "    .dataframe tbody tr th {\n",
       "        vertical-align: top;\n",
       "    }\n",
       "</style>\n",
       "<table border=\"1\" class=\"dataframe\">\n",
       "  <thead>\n",
       "    <tr style=\"text-align: right;\">\n",
       "      <th></th>\n",
       "      <th>cond</th>\n",
       "      <th>post</th>\n",
       "    </tr>\n",
       "  </thead>\n",
       "  <tbody>\n",
       "    <tr>\n",
       "      <th>0</th>\n",
       "      <td>High Difficulty \\n High Effort</td>\n",
       "      <td>0.370615</td>\n",
       "    </tr>\n",
       "    <tr>\n",
       "      <th>1</th>\n",
       "      <td>High Difficulty \\n High Effort</td>\n",
       "      <td>0.550306</td>\n",
       "    </tr>\n",
       "    <tr>\n",
       "      <th>2</th>\n",
       "      <td>High Difficulty \\n High Effort</td>\n",
       "      <td>0.300812</td>\n",
       "    </tr>\n",
       "    <tr>\n",
       "      <th>3</th>\n",
       "      <td>High Difficulty \\n High Effort</td>\n",
       "      <td>0.194055</td>\n",
       "    </tr>\n",
       "    <tr>\n",
       "      <th>4</th>\n",
       "      <td>High Difficulty \\n High Effort</td>\n",
       "      <td>0.691438</td>\n",
       "    </tr>\n",
       "  </tbody>\n",
       "</table>\n",
       "</div>"
      ],
      "text/plain": [
       "                             cond      post\n",
       "0  High Difficulty \\n High Effort  0.370615\n",
       "1  High Difficulty \\n High Effort  0.550306\n",
       "2  High Difficulty \\n High Effort  0.300812\n",
       "3  High Difficulty \\n High Effort  0.194055\n",
       "4  High Difficulty \\n High Effort  0.691438"
      ]
     },
     "execution_count": 18,
     "metadata": {},
     "output_type": "execute_result"
    }
   ],
   "source": [
    "df = pd.DataFrame(dict(cond=np.array(output[\"cond\"]), post=output[\"post\"]))\n",
    "df.head()"
   ]
  },
  {
   "cell_type": "code",
   "execution_count": 22,
   "metadata": {
    "collapsed": false
   },
   "outputs": [],
   "source": [
    "#plot?"
   ]
  },
  {
   "cell_type": "markdown",
   "metadata": {},
   "source": [
    "## Part where I get confused - I want a plot that is skill by effort for high difficulty and skill by difficulty for high effort. What function do I need to write to give me this?\n",
    "\n",
    "\n",
    "#### Determine effort given various skills and difficulties\n",
    "* planning model"
   ]
  },
  {
   "cell_type": "code",
   "execution_count": 23,
   "metadata": {
    "collapsed": false
   },
   "outputs": [],
   "source": [
    "def get_planning_effort(reward, cost, A, B,diff, skill):  #model for planning. Takes in diff, skill, and cost -returns effort\n",
    "    sampled_effort= list()\n",
    "    sampled_skill=list()\n",
    "    for i in xrange(N_samples):\n",
    "        s = np.random.choice(skill)\n",
    "        d = np.random.choice(diff)\n",
    "        effort = get_effort_multidim(cost, d, s, A, B, reward=1)\n",
    "        sampled_effort.append(effort)\n",
    "        sampled_skill.append(s)\n",
    "    \n",
    "    return sampled_effort, sampled_skill\n"
   ]
  },
  {
   "cell_type": "code",
   "execution_count": null,
   "metadata": {
    "collapsed": true
   },
   "outputs": [],
   "source": [
    "REWARD = 1\n",
    "COST = .1\n",
    "A = 2\n",
    "B = 9\n",
    "effort_high_diff,skill_high_success = get_your_effort(REWARD,COST,A, B, skill_high_diff ) \n",
    "effort_low_success,skill_low_success = get_your_effort(REWARD,COST,sampled_diff_low) \n",
    "\n",
    "\n",
    "\n"
   ]
  },
  {
   "cell_type": "code",
   "execution_count": null,
   "metadata": {
    "collapsed": true
   },
   "outputs": [],
   "source": []
  }
 ],
 "metadata": {
  "anaconda-cloud": {},
  "kernelspec": {
   "display_name": "Python 2",
   "language": "python",
   "name": "python2"
  },
  "language_info": {
   "codemirror_mode": {
    "name": "ipython",
    "version": 2
   },
   "file_extension": ".py",
   "mimetype": "text/x-python",
   "name": "python",
   "nbconvert_exporter": "python",
   "pygments_lexer": "ipython2",
   "version": "2.7.12"
  },
  "toc": {
   "colors": {
    "hover_highlight": "#DAA520",
    "running_highlight": "#FF0000",
    "selected_highlight": "#FFD700"
   },
   "moveMenuLeft": true,
   "nav_menu": {
    "height": "120px",
    "width": "252px"
   },
   "navigate_menu": true,
   "number_sections": false,
   "sideBar": true,
   "threshold": 4,
   "toc_cell": false,
   "toc_section_display": "block",
   "toc_window_display": false,
   "widenNotebook": false
  }
 },
 "nbformat": 4,
 "nbformat_minor": 1
}
